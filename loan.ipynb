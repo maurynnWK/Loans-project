{
 "cells": [
  {
   "cell_type": "markdown",
   "metadata": {},
   "source": [
    "- Build a Loan Approval Prediction Model using Jupyter Notebook.\n",
    "Use machine learning techniques to predict whether a loan\n",
    "application will be approved or not based on various factors such\n",
    "as applicant income, loan amount, credit history, etc.\n",
    "- Thus this is a classification problem with a specification of bnary classification where we have two possible outcomes Yes and No \n"
   ]
  },
  {
   "cell_type": "markdown",
   "metadata": {},
   "source": [
    "**Exploratory Data Analysis and Feature Engineering**"
   ]
  },
  {
   "cell_type": "code",
   "execution_count": 1,
   "metadata": {},
   "outputs": [],
   "source": [
    "#importation of packages\n",
    "import pandas as pd #data manipulation\n",
    "import numpy as np #mathematical computations\n",
    "%matplotlib inline\n",
    "import matplotlib.pyplot as plt #visaualization\n",
    "import seaborn as sns #visualization"
   ]
  },
  {
   "cell_type": "code",
   "execution_count": 2,
   "metadata": {},
   "outputs": [
    {
     "data": {
      "text/html": [
       "<div>\n",
       "<style scoped>\n",
       "    .dataframe tbody tr th:only-of-type {\n",
       "        vertical-align: middle;\n",
       "    }\n",
       "\n",
       "    .dataframe tbody tr th {\n",
       "        vertical-align: top;\n",
       "    }\n",
       "\n",
       "    .dataframe thead th {\n",
       "        text-align: right;\n",
       "    }\n",
       "</style>\n",
       "<table border=\"1\" class=\"dataframe\">\n",
       "  <thead>\n",
       "    <tr style=\"text-align: right;\">\n",
       "      <th></th>\n",
       "      <th>Loan_ID</th>\n",
       "      <th>Gender</th>\n",
       "      <th>Married</th>\n",
       "      <th>Dependents</th>\n",
       "      <th>Education</th>\n",
       "      <th>Self_Employed</th>\n",
       "      <th>ApplicantIncome</th>\n",
       "      <th>CoapplicantIncome</th>\n",
       "      <th>LoanAmount</th>\n",
       "      <th>Loan_Amount_Term</th>\n",
       "      <th>Credit_History</th>\n",
       "      <th>Property_Area</th>\n",
       "      <th>Loan_Status</th>\n",
       "    </tr>\n",
       "  </thead>\n",
       "  <tbody>\n",
       "    <tr>\n",
       "      <th>0</th>\n",
       "      <td>LP001002</td>\n",
       "      <td>Male</td>\n",
       "      <td>No</td>\n",
       "      <td>0</td>\n",
       "      <td>Graduate</td>\n",
       "      <td>No</td>\n",
       "      <td>5849</td>\n",
       "      <td>0.0</td>\n",
       "      <td>NaN</td>\n",
       "      <td>360.0</td>\n",
       "      <td>1.0</td>\n",
       "      <td>Urban</td>\n",
       "      <td>Y</td>\n",
       "    </tr>\n",
       "    <tr>\n",
       "      <th>1</th>\n",
       "      <td>LP001003</td>\n",
       "      <td>Male</td>\n",
       "      <td>Yes</td>\n",
       "      <td>1</td>\n",
       "      <td>Graduate</td>\n",
       "      <td>No</td>\n",
       "      <td>4583</td>\n",
       "      <td>1508.0</td>\n",
       "      <td>128.0</td>\n",
       "      <td>360.0</td>\n",
       "      <td>1.0</td>\n",
       "      <td>Rural</td>\n",
       "      <td>N</td>\n",
       "    </tr>\n",
       "    <tr>\n",
       "      <th>2</th>\n",
       "      <td>LP001005</td>\n",
       "      <td>Male</td>\n",
       "      <td>Yes</td>\n",
       "      <td>0</td>\n",
       "      <td>Graduate</td>\n",
       "      <td>Yes</td>\n",
       "      <td>3000</td>\n",
       "      <td>0.0</td>\n",
       "      <td>66.0</td>\n",
       "      <td>360.0</td>\n",
       "      <td>1.0</td>\n",
       "      <td>Urban</td>\n",
       "      <td>Y</td>\n",
       "    </tr>\n",
       "    <tr>\n",
       "      <th>3</th>\n",
       "      <td>LP001006</td>\n",
       "      <td>Male</td>\n",
       "      <td>Yes</td>\n",
       "      <td>0</td>\n",
       "      <td>Not Graduate</td>\n",
       "      <td>No</td>\n",
       "      <td>2583</td>\n",
       "      <td>2358.0</td>\n",
       "      <td>120.0</td>\n",
       "      <td>360.0</td>\n",
       "      <td>1.0</td>\n",
       "      <td>Urban</td>\n",
       "      <td>Y</td>\n",
       "    </tr>\n",
       "    <tr>\n",
       "      <th>4</th>\n",
       "      <td>LP001008</td>\n",
       "      <td>Male</td>\n",
       "      <td>No</td>\n",
       "      <td>0</td>\n",
       "      <td>Graduate</td>\n",
       "      <td>No</td>\n",
       "      <td>6000</td>\n",
       "      <td>0.0</td>\n",
       "      <td>141.0</td>\n",
       "      <td>360.0</td>\n",
       "      <td>1.0</td>\n",
       "      <td>Urban</td>\n",
       "      <td>Y</td>\n",
       "    </tr>\n",
       "  </tbody>\n",
       "</table>\n",
       "</div>"
      ],
      "text/plain": [
       "    Loan_ID Gender Married Dependents     Education Self_Employed  \\\n",
       "0  LP001002   Male      No          0      Graduate            No   \n",
       "1  LP001003   Male     Yes          1      Graduate            No   \n",
       "2  LP001005   Male     Yes          0      Graduate           Yes   \n",
       "3  LP001006   Male     Yes          0  Not Graduate            No   \n",
       "4  LP001008   Male      No          0      Graduate            No   \n",
       "\n",
       "   ApplicantIncome  CoapplicantIncome  LoanAmount  Loan_Amount_Term  \\\n",
       "0             5849                0.0         NaN             360.0   \n",
       "1             4583             1508.0       128.0             360.0   \n",
       "2             3000                0.0        66.0             360.0   \n",
       "3             2583             2358.0       120.0             360.0   \n",
       "4             6000                0.0       141.0             360.0   \n",
       "\n",
       "   Credit_History Property_Area Loan_Status  \n",
       "0             1.0         Urban           Y  \n",
       "1             1.0         Rural           N  \n",
       "2             1.0         Urban           Y  \n",
       "3             1.0         Urban           Y  \n",
       "4             1.0         Urban           Y  "
      ]
     },
     "execution_count": 2,
     "metadata": {},
     "output_type": "execute_result"
    }
   ],
   "source": [
    "#load the dataset\n",
    "dataframe=pd.read_csv(\"c:\\\\Users\\\\ADMIN\\\\Documents\\\\Datasets\\\\loan.csv\")\n",
    "dataframe.head()"
   ]
  },
  {
   "cell_type": "markdown",
   "metadata": {},
   "source": [
    "- The lifecycle in any datascience project or rather it's workflow:\n",
    "  1. Data Analysis\n",
    "  2. Feature Engineering\n",
    "  3. Feature Selection\n",
    "  4. Model Building\n",
    "  5. Model Deployment"
   ]
  },
  {
   "cell_type": "markdown",
   "metadata": {},
   "source": [
    "**Exploratory Data Analysis**"
   ]
  },
  {
   "cell_type": "code",
   "execution_count": 3,
   "metadata": {},
   "outputs": [
    {
     "name": "stdout",
     "output_type": "stream",
     "text": [
      "614\n"
     ]
    }
   ],
   "source": [
    "print(len(dataframe))"
   ]
  },
  {
   "cell_type": "code",
   "execution_count": 4,
   "metadata": {},
   "outputs": [
    {
     "data": {
      "text/html": [
       "<div>\n",
       "<style scoped>\n",
       "    .dataframe tbody tr th:only-of-type {\n",
       "        vertical-align: middle;\n",
       "    }\n",
       "\n",
       "    .dataframe tbody tr th {\n",
       "        vertical-align: top;\n",
       "    }\n",
       "\n",
       "    .dataframe thead th {\n",
       "        text-align: right;\n",
       "    }\n",
       "</style>\n",
       "<table border=\"1\" class=\"dataframe\">\n",
       "  <thead>\n",
       "    <tr style=\"text-align: right;\">\n",
       "      <th></th>\n",
       "      <th>Loan_ID</th>\n",
       "      <th>Gender</th>\n",
       "      <th>Married</th>\n",
       "      <th>Dependents</th>\n",
       "      <th>Education</th>\n",
       "      <th>Self_Employed</th>\n",
       "      <th>ApplicantIncome</th>\n",
       "      <th>CoapplicantIncome</th>\n",
       "      <th>LoanAmount</th>\n",
       "      <th>Loan_Amount_Term</th>\n",
       "      <th>Credit_History</th>\n",
       "      <th>Property_Area</th>\n",
       "      <th>Loan_Status</th>\n",
       "    </tr>\n",
       "  </thead>\n",
       "  <tbody>\n",
       "  </tbody>\n",
       "</table>\n",
       "</div>"
      ],
      "text/plain": [
       "Empty DataFrame\n",
       "Columns: [Loan_ID, Gender, Married, Dependents, Education, Self_Employed, ApplicantIncome, CoapplicantIncome, LoanAmount, Loan_Amount_Term, Credit_History, Property_Area, Loan_Status]\n",
       "Index: []"
      ]
     },
     "execution_count": 4,
     "metadata": {},
     "output_type": "execute_result"
    }
   ],
   "source": [
    "dataframe[dataframe.duplicated(subset=['Loan_ID'],keep=False)]\n",
    "#the code above is used to show any duplication of ros based on the loanID column specifically because it should be unique for any loan application i.e row\n",
    "#From output where any instance of duplication is to shown we get an empty dataframe thus there's no repetition bas4d on transaction id"
   ]
  },
  {
   "cell_type": "code",
   "execution_count": 5,
   "metadata": {},
   "outputs": [
    {
     "data": {
      "text/plain": [
       "(614, 13)"
      ]
     },
     "execution_count": 5,
     "metadata": {},
     "output_type": "execute_result"
    }
   ],
   "source": [
    "dataframe.shape"
   ]
  },
  {
   "cell_type": "code",
   "execution_count": 6,
   "metadata": {},
   "outputs": [
    {
     "name": "stdout",
     "output_type": "stream",
     "text": [
      "<class 'pandas.core.frame.DataFrame'>\n",
      "RangeIndex: 614 entries, 0 to 613\n",
      "Data columns (total 13 columns):\n",
      " #   Column             Non-Null Count  Dtype  \n",
      "---  ------             --------------  -----  \n",
      " 0   Loan_ID            614 non-null    object \n",
      " 1   Gender             601 non-null    object \n",
      " 2   Married            611 non-null    object \n",
      " 3   Dependents         599 non-null    object \n",
      " 4   Education          614 non-null    object \n",
      " 5   Self_Employed      582 non-null    object \n",
      " 6   ApplicantIncome    614 non-null    int64  \n",
      " 7   CoapplicantIncome  614 non-null    float64\n",
      " 8   LoanAmount         592 non-null    float64\n",
      " 9   Loan_Amount_Term   600 non-null    float64\n",
      " 10  Credit_History     564 non-null    float64\n",
      " 11  Property_Area      614 non-null    object \n",
      " 12  Loan_Status        614 non-null    object \n",
      "dtypes: float64(4), int64(1), object(8)\n",
      "memory usage: 62.5+ KB\n"
     ]
    }
   ],
   "source": [
    "dataframe.info()"
   ]
  },
  {
   "cell_type": "code",
   "execution_count": 7,
   "metadata": {},
   "outputs": [
    {
     "data": {
      "text/html": [
       "<div>\n",
       "<style scoped>\n",
       "    .dataframe tbody tr th:only-of-type {\n",
       "        vertical-align: middle;\n",
       "    }\n",
       "\n",
       "    .dataframe tbody tr th {\n",
       "        vertical-align: top;\n",
       "    }\n",
       "\n",
       "    .dataframe thead th {\n",
       "        text-align: right;\n",
       "    }\n",
       "</style>\n",
       "<table border=\"1\" class=\"dataframe\">\n",
       "  <thead>\n",
       "    <tr style=\"text-align: right;\">\n",
       "      <th></th>\n",
       "      <th>Loan_ID</th>\n",
       "      <th>Gender</th>\n",
       "      <th>Married</th>\n",
       "      <th>Dependents</th>\n",
       "      <th>Education</th>\n",
       "      <th>Self_Employed</th>\n",
       "      <th>ApplicantIncome</th>\n",
       "      <th>CoapplicantIncome</th>\n",
       "      <th>LoanAmount</th>\n",
       "      <th>Loan_Amount_Term</th>\n",
       "      <th>Credit_History</th>\n",
       "      <th>Property_Area</th>\n",
       "      <th>Loan_Status</th>\n",
       "    </tr>\n",
       "  </thead>\n",
       "  <tbody>\n",
       "    <tr>\n",
       "      <th>0</th>\n",
       "      <td>LP001002</td>\n",
       "      <td>Male</td>\n",
       "      <td>No</td>\n",
       "      <td>0</td>\n",
       "      <td>Graduate</td>\n",
       "      <td>No</td>\n",
       "      <td>5849</td>\n",
       "      <td>0.0</td>\n",
       "      <td>NaN</td>\n",
       "      <td>360.0</td>\n",
       "      <td>1.0</td>\n",
       "      <td>Urban</td>\n",
       "      <td>Y</td>\n",
       "    </tr>\n",
       "    <tr>\n",
       "      <th>1</th>\n",
       "      <td>LP001003</td>\n",
       "      <td>Male</td>\n",
       "      <td>Yes</td>\n",
       "      <td>1</td>\n",
       "      <td>Graduate</td>\n",
       "      <td>No</td>\n",
       "      <td>4583</td>\n",
       "      <td>1508.0</td>\n",
       "      <td>128.0</td>\n",
       "      <td>360.0</td>\n",
       "      <td>1.0</td>\n",
       "      <td>Rural</td>\n",
       "      <td>N</td>\n",
       "    </tr>\n",
       "    <tr>\n",
       "      <th>2</th>\n",
       "      <td>LP001005</td>\n",
       "      <td>Male</td>\n",
       "      <td>Yes</td>\n",
       "      <td>0</td>\n",
       "      <td>Graduate</td>\n",
       "      <td>Yes</td>\n",
       "      <td>3000</td>\n",
       "      <td>0.0</td>\n",
       "      <td>66.0</td>\n",
       "      <td>360.0</td>\n",
       "      <td>1.0</td>\n",
       "      <td>Urban</td>\n",
       "      <td>Y</td>\n",
       "    </tr>\n",
       "    <tr>\n",
       "      <th>3</th>\n",
       "      <td>LP001006</td>\n",
       "      <td>Male</td>\n",
       "      <td>Yes</td>\n",
       "      <td>0</td>\n",
       "      <td>Not Graduate</td>\n",
       "      <td>No</td>\n",
       "      <td>2583</td>\n",
       "      <td>2358.0</td>\n",
       "      <td>120.0</td>\n",
       "      <td>360.0</td>\n",
       "      <td>1.0</td>\n",
       "      <td>Urban</td>\n",
       "      <td>Y</td>\n",
       "    </tr>\n",
       "    <tr>\n",
       "      <th>4</th>\n",
       "      <td>LP001008</td>\n",
       "      <td>Male</td>\n",
       "      <td>No</td>\n",
       "      <td>0</td>\n",
       "      <td>Graduate</td>\n",
       "      <td>No</td>\n",
       "      <td>6000</td>\n",
       "      <td>0.0</td>\n",
       "      <td>141.0</td>\n",
       "      <td>360.0</td>\n",
       "      <td>1.0</td>\n",
       "      <td>Urban</td>\n",
       "      <td>Y</td>\n",
       "    </tr>\n",
       "    <tr>\n",
       "      <th>...</th>\n",
       "      <td>...</td>\n",
       "      <td>...</td>\n",
       "      <td>...</td>\n",
       "      <td>...</td>\n",
       "      <td>...</td>\n",
       "      <td>...</td>\n",
       "      <td>...</td>\n",
       "      <td>...</td>\n",
       "      <td>...</td>\n",
       "      <td>...</td>\n",
       "      <td>...</td>\n",
       "      <td>...</td>\n",
       "      <td>...</td>\n",
       "    </tr>\n",
       "    <tr>\n",
       "      <th>609</th>\n",
       "      <td>LP002978</td>\n",
       "      <td>Female</td>\n",
       "      <td>No</td>\n",
       "      <td>0</td>\n",
       "      <td>Graduate</td>\n",
       "      <td>No</td>\n",
       "      <td>2900</td>\n",
       "      <td>0.0</td>\n",
       "      <td>71.0</td>\n",
       "      <td>360.0</td>\n",
       "      <td>1.0</td>\n",
       "      <td>Rural</td>\n",
       "      <td>Y</td>\n",
       "    </tr>\n",
       "    <tr>\n",
       "      <th>610</th>\n",
       "      <td>LP002979</td>\n",
       "      <td>Male</td>\n",
       "      <td>Yes</td>\n",
       "      <td>3+</td>\n",
       "      <td>Graduate</td>\n",
       "      <td>No</td>\n",
       "      <td>4106</td>\n",
       "      <td>0.0</td>\n",
       "      <td>40.0</td>\n",
       "      <td>180.0</td>\n",
       "      <td>1.0</td>\n",
       "      <td>Rural</td>\n",
       "      <td>Y</td>\n",
       "    </tr>\n",
       "    <tr>\n",
       "      <th>611</th>\n",
       "      <td>LP002983</td>\n",
       "      <td>Male</td>\n",
       "      <td>Yes</td>\n",
       "      <td>1</td>\n",
       "      <td>Graduate</td>\n",
       "      <td>No</td>\n",
       "      <td>8072</td>\n",
       "      <td>240.0</td>\n",
       "      <td>253.0</td>\n",
       "      <td>360.0</td>\n",
       "      <td>1.0</td>\n",
       "      <td>Urban</td>\n",
       "      <td>Y</td>\n",
       "    </tr>\n",
       "    <tr>\n",
       "      <th>612</th>\n",
       "      <td>LP002984</td>\n",
       "      <td>Male</td>\n",
       "      <td>Yes</td>\n",
       "      <td>2</td>\n",
       "      <td>Graduate</td>\n",
       "      <td>No</td>\n",
       "      <td>7583</td>\n",
       "      <td>0.0</td>\n",
       "      <td>187.0</td>\n",
       "      <td>360.0</td>\n",
       "      <td>1.0</td>\n",
       "      <td>Urban</td>\n",
       "      <td>Y</td>\n",
       "    </tr>\n",
       "    <tr>\n",
       "      <th>613</th>\n",
       "      <td>LP002990</td>\n",
       "      <td>Female</td>\n",
       "      <td>No</td>\n",
       "      <td>0</td>\n",
       "      <td>Graduate</td>\n",
       "      <td>Yes</td>\n",
       "      <td>4583</td>\n",
       "      <td>0.0</td>\n",
       "      <td>133.0</td>\n",
       "      <td>360.0</td>\n",
       "      <td>0.0</td>\n",
       "      <td>Semiurban</td>\n",
       "      <td>N</td>\n",
       "    </tr>\n",
       "  </tbody>\n",
       "</table>\n",
       "<p>614 rows × 13 columns</p>\n",
       "</div>"
      ],
      "text/plain": [
       "      Loan_ID  Gender Married Dependents     Education Self_Employed  \\\n",
       "0    LP001002    Male      No          0      Graduate            No   \n",
       "1    LP001003    Male     Yes          1      Graduate            No   \n",
       "2    LP001005    Male     Yes          0      Graduate           Yes   \n",
       "3    LP001006    Male     Yes          0  Not Graduate            No   \n",
       "4    LP001008    Male      No          0      Graduate            No   \n",
       "..        ...     ...     ...        ...           ...           ...   \n",
       "609  LP002978  Female      No          0      Graduate            No   \n",
       "610  LP002979    Male     Yes         3+      Graduate            No   \n",
       "611  LP002983    Male     Yes          1      Graduate            No   \n",
       "612  LP002984    Male     Yes          2      Graduate            No   \n",
       "613  LP002990  Female      No          0      Graduate           Yes   \n",
       "\n",
       "     ApplicantIncome  CoapplicantIncome  LoanAmount  Loan_Amount_Term  \\\n",
       "0               5849                0.0         NaN             360.0   \n",
       "1               4583             1508.0       128.0             360.0   \n",
       "2               3000                0.0        66.0             360.0   \n",
       "3               2583             2358.0       120.0             360.0   \n",
       "4               6000                0.0       141.0             360.0   \n",
       "..               ...                ...         ...               ...   \n",
       "609             2900                0.0        71.0             360.0   \n",
       "610             4106                0.0        40.0             180.0   \n",
       "611             8072              240.0       253.0             360.0   \n",
       "612             7583                0.0       187.0             360.0   \n",
       "613             4583                0.0       133.0             360.0   \n",
       "\n",
       "     Credit_History Property_Area Loan_Status  \n",
       "0               1.0         Urban           Y  \n",
       "1               1.0         Rural           N  \n",
       "2               1.0         Urban           Y  \n",
       "3               1.0         Urban           Y  \n",
       "4               1.0         Urban           Y  \n",
       "..              ...           ...         ...  \n",
       "609             1.0         Rural           Y  \n",
       "610             1.0         Rural           Y  \n",
       "611             1.0         Urban           Y  \n",
       "612             1.0         Urban           Y  \n",
       "613             0.0     Semiurban           N  \n",
       "\n",
       "[614 rows x 13 columns]"
      ]
     },
     "execution_count": 7,
     "metadata": {},
     "output_type": "execute_result"
    }
   ],
   "source": [
    "dataframe"
   ]
  },
  {
   "cell_type": "code",
   "execution_count": 8,
   "metadata": {},
   "outputs": [
    {
     "data": {
      "text/html": [
       "<div>\n",
       "<style scoped>\n",
       "    .dataframe tbody tr th:only-of-type {\n",
       "        vertical-align: middle;\n",
       "    }\n",
       "\n",
       "    .dataframe tbody tr th {\n",
       "        vertical-align: top;\n",
       "    }\n",
       "\n",
       "    .dataframe thead th {\n",
       "        text-align: right;\n",
       "    }\n",
       "</style>\n",
       "<table border=\"1\" class=\"dataframe\">\n",
       "  <thead>\n",
       "    <tr style=\"text-align: right;\">\n",
       "      <th></th>\n",
       "      <th>Loan_ID</th>\n",
       "      <th>Gender</th>\n",
       "      <th>Married</th>\n",
       "      <th>Dependents</th>\n",
       "      <th>Education</th>\n",
       "      <th>Self_Employed</th>\n",
       "      <th>Property_Area</th>\n",
       "      <th>Loan_Status</th>\n",
       "    </tr>\n",
       "  </thead>\n",
       "  <tbody>\n",
       "    <tr>\n",
       "      <th>0</th>\n",
       "      <td>LP001002</td>\n",
       "      <td>Male</td>\n",
       "      <td>No</td>\n",
       "      <td>0</td>\n",
       "      <td>Graduate</td>\n",
       "      <td>No</td>\n",
       "      <td>Urban</td>\n",
       "      <td>Y</td>\n",
       "    </tr>\n",
       "    <tr>\n",
       "      <th>1</th>\n",
       "      <td>LP001003</td>\n",
       "      <td>Male</td>\n",
       "      <td>Yes</td>\n",
       "      <td>1</td>\n",
       "      <td>Graduate</td>\n",
       "      <td>No</td>\n",
       "      <td>Rural</td>\n",
       "      <td>N</td>\n",
       "    </tr>\n",
       "    <tr>\n",
       "      <th>2</th>\n",
       "      <td>LP001005</td>\n",
       "      <td>Male</td>\n",
       "      <td>Yes</td>\n",
       "      <td>0</td>\n",
       "      <td>Graduate</td>\n",
       "      <td>Yes</td>\n",
       "      <td>Urban</td>\n",
       "      <td>Y</td>\n",
       "    </tr>\n",
       "    <tr>\n",
       "      <th>3</th>\n",
       "      <td>LP001006</td>\n",
       "      <td>Male</td>\n",
       "      <td>Yes</td>\n",
       "      <td>0</td>\n",
       "      <td>Not Graduate</td>\n",
       "      <td>No</td>\n",
       "      <td>Urban</td>\n",
       "      <td>Y</td>\n",
       "    </tr>\n",
       "    <tr>\n",
       "      <th>4</th>\n",
       "      <td>LP001008</td>\n",
       "      <td>Male</td>\n",
       "      <td>No</td>\n",
       "      <td>0</td>\n",
       "      <td>Graduate</td>\n",
       "      <td>No</td>\n",
       "      <td>Urban</td>\n",
       "      <td>Y</td>\n",
       "    </tr>\n",
       "  </tbody>\n",
       "</table>\n",
       "</div>"
      ],
      "text/plain": [
       "    Loan_ID Gender Married Dependents     Education Self_Employed  \\\n",
       "0  LP001002   Male      No          0      Graduate            No   \n",
       "1  LP001003   Male     Yes          1      Graduate            No   \n",
       "2  LP001005   Male     Yes          0      Graduate           Yes   \n",
       "3  LP001006   Male     Yes          0  Not Graduate            No   \n",
       "4  LP001008   Male      No          0      Graduate            No   \n",
       "\n",
       "  Property_Area Loan_Status  \n",
       "0         Urban           Y  \n",
       "1         Rural           N  \n",
       "2         Urban           Y  \n",
       "3         Urban           Y  \n",
       "4         Urban           Y  "
      ]
     },
     "execution_count": 8,
     "metadata": {},
     "output_type": "execute_result"
    }
   ],
   "source": [
    "dataframe.select_dtypes(include=['object']).head()\n",
    "#gives the first five rows of the dataframe where the columns are only of datatype object"
   ]
  },
  {
   "cell_type": "code",
   "execution_count": 9,
   "metadata": {},
   "outputs": [
    {
     "data": {
      "text/plain": [
       "Gender\n",
       "Male      489\n",
       "Female    112\n",
       "NaN        13\n",
       "Name: count, dtype: int64"
      ]
     },
     "execution_count": 9,
     "metadata": {},
     "output_type": "execute_result"
    }
   ],
   "source": [
    "dataframe.Gender.value_counts(dropna=False)"
   ]
  },
  {
   "cell_type": "code",
   "execution_count": 10,
   "metadata": {},
   "outputs": [
    {
     "data": {
      "text/plain": [
       "Married\n",
       "Yes    398\n",
       "No     213\n",
       "NaN      3\n",
       "Name: count, dtype: int64"
      ]
     },
     "execution_count": 10,
     "metadata": {},
     "output_type": "execute_result"
    }
   ],
   "source": [
    "dataframe.Married.value_counts(dropna=False)"
   ]
  },
  {
   "cell_type": "code",
   "execution_count": 11,
   "metadata": {},
   "outputs": [
    {
     "data": {
      "text/plain": [
       "Dependents\n",
       "0      345\n",
       "1      102\n",
       "2      101\n",
       "3+      51\n",
       "NaN     15\n",
       "Name: count, dtype: int64"
      ]
     },
     "execution_count": 11,
     "metadata": {},
     "output_type": "execute_result"
    }
   ],
   "source": [
    "dataframe.Dependents.value_counts(dropna=False)"
   ]
  },
  {
   "cell_type": "code",
   "execution_count": 12,
   "metadata": {},
   "outputs": [
    {
     "data": {
      "text/plain": [
       "Education\n",
       "Graduate        480\n",
       "Not Graduate    134\n",
       "Name: count, dtype: int64"
      ]
     },
     "execution_count": 12,
     "metadata": {},
     "output_type": "execute_result"
    }
   ],
   "source": [
    "dataframe.Education.value_counts(dropna=False)"
   ]
  },
  {
   "cell_type": "code",
   "execution_count": 13,
   "metadata": {},
   "outputs": [
    {
     "data": {
      "text/plain": [
       "Self_Employed\n",
       "No     500\n",
       "Yes     82\n",
       "NaN     32\n",
       "Name: count, dtype: int64"
      ]
     },
     "execution_count": 13,
     "metadata": {},
     "output_type": "execute_result"
    }
   ],
   "source": [
    "dataframe.Self_Employed.value_counts(dropna=False)"
   ]
  },
  {
   "cell_type": "code",
   "execution_count": 14,
   "metadata": {},
   "outputs": [
    {
     "data": {
      "text/plain": [
       "Property_Area\n",
       "Semiurban    233\n",
       "Urban        202\n",
       "Rural        179\n",
       "Name: count, dtype: int64"
      ]
     },
     "execution_count": 14,
     "metadata": {},
     "output_type": "execute_result"
    }
   ],
   "source": [
    "dataframe.Property_Area.value_counts(dropna=False)"
   ]
  },
  {
   "cell_type": "code",
   "execution_count": 15,
   "metadata": {},
   "outputs": [
    {
     "data": {
      "text/plain": [
       "Education\n",
       "Graduate        480\n",
       "Not Graduate    134\n",
       "Name: count, dtype: int64"
      ]
     },
     "execution_count": 15,
     "metadata": {},
     "output_type": "execute_result"
    }
   ],
   "source": [
    "dataframe['Education'].value_counts(dropna=False)"
   ]
  },
  {
   "cell_type": "code",
   "execution_count": 16,
   "metadata": {},
   "outputs": [],
   "source": [
    "from typing import List\n",
    "ordinal={'Education':['Not Graduate','Graduate'],\n",
    "         'Dependents':['0','1','2','3+'],\n",
    "         'Property_Area':['Rural','Semiurban','Urban']}\n",
    "\n",
    "nominal=['Self_Employed','Gender','Married','Loan_Status']         \n",
    "\n",
    "def convert_to_categorical(dataframe:pd.DataFrame,ordinal:dict,nominal:List)->pd.DataFrame:\n",
    "    \"\"\"\n",
    "    This function converts columns of object datatype\n",
    "    to be of categorical data type based on list and dictionary that are pre-defined\n",
    "    to state which type of categorical data they fall under\n",
    "\n",
    "    The function returns a dataframe with converted columns\n",
    "    \"\"\"\n",
    "    for col in ordinal.keys():\n",
    "        dataframe[col]=pd.Categorical(dataframe[col],categories=ordinal[col],ordered=True)\n",
    "    for col in nominal:\n",
    "        dataframe[col]=pd.Categorical(dataframe[col])    \n",
    "    return dataframe\n",
    "dataframe=convert_to_categorical(dataframe,ordinal,nominal)    "
   ]
  },
  {
   "cell_type": "code",
   "execution_count": 17,
   "metadata": {},
   "outputs": [
    {
     "data": {
      "text/plain": [
       "Education\n",
       "Graduate        480\n",
       "Not Graduate    134\n",
       "Name: count, dtype: int64"
      ]
     },
     "execution_count": 17,
     "metadata": {},
     "output_type": "execute_result"
    }
   ],
   "source": [
    "dataframe['Education'].value_counts()"
   ]
  },
  {
   "cell_type": "code",
   "execution_count": 18,
   "metadata": {},
   "outputs": [
    {
     "name": "stdout",
     "output_type": "stream",
     "text": [
      "<class 'pandas.core.frame.DataFrame'>\n",
      "RangeIndex: 614 entries, 0 to 613\n",
      "Data columns (total 13 columns):\n",
      " #   Column             Non-Null Count  Dtype   \n",
      "---  ------             --------------  -----   \n",
      " 0   Loan_ID            614 non-null    object  \n",
      " 1   Gender             601 non-null    category\n",
      " 2   Married            611 non-null    category\n",
      " 3   Dependents         599 non-null    category\n",
      " 4   Education          614 non-null    category\n",
      " 5   Self_Employed      582 non-null    category\n",
      " 6   ApplicantIncome    614 non-null    int64   \n",
      " 7   CoapplicantIncome  614 non-null    float64 \n",
      " 8   LoanAmount         592 non-null    float64 \n",
      " 9   Loan_Amount_Term   600 non-null    float64 \n",
      " 10  Credit_History     564 non-null    float64 \n",
      " 11  Property_Area      614 non-null    category\n",
      " 12  Loan_Status        614 non-null    category\n",
      "dtypes: category(7), float64(4), int64(1), object(1)\n",
      "memory usage: 34.0+ KB\n"
     ]
    }
   ],
   "source": [
    "dataframe.info()"
   ]
  },
  {
   "cell_type": "code",
   "execution_count": 19,
   "metadata": {},
   "outputs": [
    {
     "data": {
      "text/plain": [
       "Loan_ID                object\n",
       "Gender               category\n",
       "Married              category\n",
       "Dependents           category\n",
       "Education            category\n",
       "Self_Employed        category\n",
       "ApplicantIncome       float64\n",
       "CoapplicantIncome     float64\n",
       "LoanAmount            float64\n",
       "Loan_Amount_Term      float64\n",
       "Credit_History        float64\n",
       "Property_Area        category\n",
       "Loan_Status          category\n",
       "dtype: object"
      ]
     },
     "execution_count": 19,
     "metadata": {},
     "output_type": "execute_result"
    }
   ],
   "source": [
    "dataframe.describe()\n",
    "dataframe['ApplicantIncome']=dataframe['ApplicantIncome'].astype(\"float\")\n",
    "dataframe.dtypes"
   ]
  },
  {
   "cell_type": "code",
   "execution_count": 20,
   "metadata": {},
   "outputs": [
    {
     "data": {
      "text/html": [
       "<div>\n",
       "<style scoped>\n",
       "    .dataframe tbody tr th:only-of-type {\n",
       "        vertical-align: middle;\n",
       "    }\n",
       "\n",
       "    .dataframe tbody tr th {\n",
       "        vertical-align: top;\n",
       "    }\n",
       "\n",
       "    .dataframe thead th {\n",
       "        text-align: right;\n",
       "    }\n",
       "</style>\n",
       "<table border=\"1\" class=\"dataframe\">\n",
       "  <thead>\n",
       "    <tr style=\"text-align: right;\">\n",
       "      <th></th>\n",
       "      <th>ApplicantIncome</th>\n",
       "      <th>CoapplicantIncome</th>\n",
       "      <th>LoanAmount</th>\n",
       "      <th>Loan_Amount_Term</th>\n",
       "      <th>Credit_History</th>\n",
       "    </tr>\n",
       "  </thead>\n",
       "  <tbody>\n",
       "    <tr>\n",
       "      <th>count</th>\n",
       "      <td>614.000000</td>\n",
       "      <td>614.000000</td>\n",
       "      <td>592.000000</td>\n",
       "      <td>600.00000</td>\n",
       "      <td>564.000000</td>\n",
       "    </tr>\n",
       "    <tr>\n",
       "      <th>mean</th>\n",
       "      <td>5403.459283</td>\n",
       "      <td>1621.245798</td>\n",
       "      <td>146.412162</td>\n",
       "      <td>342.00000</td>\n",
       "      <td>0.842199</td>\n",
       "    </tr>\n",
       "    <tr>\n",
       "      <th>std</th>\n",
       "      <td>6109.041673</td>\n",
       "      <td>2926.248369</td>\n",
       "      <td>85.587325</td>\n",
       "      <td>65.12041</td>\n",
       "      <td>0.364878</td>\n",
       "    </tr>\n",
       "    <tr>\n",
       "      <th>min</th>\n",
       "      <td>150.000000</td>\n",
       "      <td>0.000000</td>\n",
       "      <td>9.000000</td>\n",
       "      <td>12.00000</td>\n",
       "      <td>0.000000</td>\n",
       "    </tr>\n",
       "    <tr>\n",
       "      <th>25%</th>\n",
       "      <td>2877.500000</td>\n",
       "      <td>0.000000</td>\n",
       "      <td>100.000000</td>\n",
       "      <td>360.00000</td>\n",
       "      <td>1.000000</td>\n",
       "    </tr>\n",
       "    <tr>\n",
       "      <th>50%</th>\n",
       "      <td>3812.500000</td>\n",
       "      <td>1188.500000</td>\n",
       "      <td>128.000000</td>\n",
       "      <td>360.00000</td>\n",
       "      <td>1.000000</td>\n",
       "    </tr>\n",
       "    <tr>\n",
       "      <th>75%</th>\n",
       "      <td>5795.000000</td>\n",
       "      <td>2297.250000</td>\n",
       "      <td>168.000000</td>\n",
       "      <td>360.00000</td>\n",
       "      <td>1.000000</td>\n",
       "    </tr>\n",
       "    <tr>\n",
       "      <th>max</th>\n",
       "      <td>81000.000000</td>\n",
       "      <td>41667.000000</td>\n",
       "      <td>700.000000</td>\n",
       "      <td>480.00000</td>\n",
       "      <td>1.000000</td>\n",
       "    </tr>\n",
       "  </tbody>\n",
       "</table>\n",
       "</div>"
      ],
      "text/plain": [
       "       ApplicantIncome  CoapplicantIncome  LoanAmount  Loan_Amount_Term  \\\n",
       "count       614.000000         614.000000  592.000000         600.00000   \n",
       "mean       5403.459283        1621.245798  146.412162         342.00000   \n",
       "std        6109.041673        2926.248369   85.587325          65.12041   \n",
       "min         150.000000           0.000000    9.000000          12.00000   \n",
       "25%        2877.500000           0.000000  100.000000         360.00000   \n",
       "50%        3812.500000        1188.500000  128.000000         360.00000   \n",
       "75%        5795.000000        2297.250000  168.000000         360.00000   \n",
       "max       81000.000000       41667.000000  700.000000         480.00000   \n",
       "\n",
       "       Credit_History  \n",
       "count      564.000000  \n",
       "mean         0.842199  \n",
       "std          0.364878  \n",
       "min          0.000000  \n",
       "25%          1.000000  \n",
       "50%          1.000000  \n",
       "75%          1.000000  \n",
       "max          1.000000  "
      ]
     },
     "execution_count": 20,
     "metadata": {},
     "output_type": "execute_result"
    }
   ],
   "source": [
    "dataframe.describe()"
   ]
  },
  {
   "cell_type": "markdown",
   "metadata": {},
   "source": [
    "**Visualization of numerival variable CoapplicantIncome**"
   ]
  },
  {
   "cell_type": "code",
   "execution_count": 21,
   "metadata": {},
   "outputs": [
    {
     "data": {
      "image/png": "[encoded data removed]",
      "text/plain": [
       "<Figure size 1000x600 with 2 Axes>"
      ]
     },
     "metadata": {},
     "output_type": "display_data"
    }
   ],
   "source": [
    "fig,ax=plt.subplots(nrows=1,ncols=2,figsize=(10,6))\n",
    "fig.patch.set_facecolor('lightblue')\n",
    "\n",
    "ax[0].hist(x=dataframe['CoapplicantIncome'])\n",
    "ax[0].set_title('CoapplicantIncome')\n",
    "ax[0].set_xlabel('CoapplicantIncome')\n",
    "ax[0].set_ylabel('Frequency')  #   ax[0:0],ax[1:1]\n",
    "ax[0].grid(True)\n",
    "ax[0].set_facecolor('lightgray')\n",
    "\n",
    "ax[1].boxplot(x=dataframe['CoapplicantIncome'])\n",
    "ax[1].set_title('CoapplicantIncome')\n",
    "ax[1].set_xlabel('CoapplicantIncome')\n",
    "ax[1].set_ylabel('Frequency')\n",
    "ax[1].grid(True)\n",
    "ax[1].set_facecolor('lightgray')"
   ]
  },
  {
   "cell_type": "code",
   "execution_count": 22,
   "metadata": {},
   "outputs": [
    {
     "data": {
      "text/plain": [
       "2297.25"
      ]
     },
     "execution_count": 22,
     "metadata": {},
     "output_type": "execute_result"
    }
   ],
   "source": [
    "dataframe['CoapplicantIncome'].quantile(0.75)"
   ]
  },
  {
   "cell_type": "code",
   "execution_count": 23,
   "metadata": {},
   "outputs": [
    {
     "name": "stdout",
     "output_type": "stream",
     "text": [
      "Beyond 75% 154\n",
      "Zero 273\n"
     ]
    },
    {
     "data": {
      "text/plain": [
       "427"
      ]
     },
     "execution_count": 23,
     "metadata": {},
     "output_type": "execute_result"
    }
   ],
   "source": [
    "print(\"Beyond 75%\",len(dataframe[dataframe['CoapplicantIncome']>2297.25]))\n",
    "print(\"Zero\",len(dataframe[dataframe['CoapplicantIncome']==0]))\n",
    "273+154"
   ]
  },
  {
   "cell_type": "code",
   "execution_count": 24,
   "metadata": {},
   "outputs": [
    {
     "name": "stdout",
     "output_type": "stream",
     "text": [
      "2297.25\n",
      "5743.125\n"
     ]
    }
   ],
   "source": [
    "\n",
    "q3=dataframe['CoapplicantIncome'].quantile(0.75) \n",
    "q1=dataframe['CoapplicantIncome'].quantile(0.25)\n",
    "iq=q3-q1\n",
    "print(iq)\n",
    "#lower_limit = q1 - 1.5*iq\n",
    "upper_limit = q3 + 1.5*iq\n",
    "print(upper_limit)"
   ]
  },
  {
   "cell_type": "code",
   "execution_count": 25,
   "metadata": {},
   "outputs": [
    {
     "data": {
      "text/plain": [
       "(array([294., 121., 100.,  43.,  25.,  13.,   3.,   6.,   3.,   0.,   1.,\n",
       "          1.,   0.,   0.,   0.,   0.,   0.,   0.,   0.,   2.]),\n",
       " array([    0.,  1000.,  2000.,  3000.,  4000.,  5000.,  6000.,  7000.,\n",
       "         8000.,  9000., 10000., 11000., 12000., 13000., 14000., 15000.,\n",
       "        16000., 17000., 18000., 19000., 20000.]),\n",
       " <BarContainer object of 20 artists>)"
      ]
     },
     "execution_count": 25,
     "metadata": {},
     "output_type": "execute_result"
    },
    {
     "data": {
      "image/png": "[encoded data removed]",
      "text/plain": [
       "<Figure size 640x480 with 1 Axes>"
      ]
     },
     "metadata": {},
     "output_type": "display_data"
    }
   ],
   "source": [
    "dataframe=dataframe.loc[dataframe['CoapplicantIncome']<=20000]\n",
    "plt.hist(dataframe['CoapplicantIncome'],bins=20)"
   ]
  },
  {
   "cell_type": "code",
   "execution_count": 26,
   "metadata": {},
   "outputs": [
    {
     "data": {
      "image/png": "[encoded data removed]",
      "text/plain": [
       "<Figure size 1000x600 with 2 Axes>"
      ]
     },
     "metadata": {},
     "output_type": "display_data"
    }
   ],
   "source": [
    "fig,ax=plt.subplots(nrows=1,ncols=2,figsize=(10,6))\n",
    "fig.patch.set_facecolor('lightblue')\n",
    "\n",
    "ax[0].hist(x=dataframe['ApplicantIncome'])\n",
    "ax[0].set_title('ApplicantIncome')\n",
    "ax[0].set_xlabel('ApplicantIncome')\n",
    "ax[0].set_ylabel('Frequency')  #   ax[0:0],ax[1:1]\n",
    "ax[0].grid(True)\n",
    "ax[0].set_facecolor('lightgray')\n",
    "\n",
    "ax[1].boxplot(x=dataframe['ApplicantIncome'])\n",
    "ax[1].set_title('ApplicantIncome')\n",
    "ax[1].set_xlabel('ApplicantIncome')\n",
    "ax[1].set_ylabel('Frequency')\n",
    "ax[1].grid(True)\n",
    "ax[1].set_facecolor('lightgray')"
   ]
  },
  {
   "cell_type": "code",
   "execution_count": 27,
   "metadata": {},
   "outputs": [
    {
     "data": {
      "text/html": [
       "<div>\n",
       "<style scoped>\n",
       "    .dataframe tbody tr th:only-of-type {\n",
       "        vertical-align: middle;\n",
       "    }\n",
       "\n",
       "    .dataframe tbody tr th {\n",
       "        vertical-align: top;\n",
       "    }\n",
       "\n",
       "    .dataframe thead th {\n",
       "        text-align: right;\n",
       "    }\n",
       "</style>\n",
       "<table border=\"1\" class=\"dataframe\">\n",
       "  <thead>\n",
       "    <tr style=\"text-align: right;\">\n",
       "      <th></th>\n",
       "      <th>ApplicantIncome</th>\n",
       "      <th>CoapplicantIncome</th>\n",
       "      <th>LoanAmount</th>\n",
       "      <th>Loan_Amount_Term</th>\n",
       "      <th>Credit_History</th>\n",
       "    </tr>\n",
       "  </thead>\n",
       "  <tbody>\n",
       "    <tr>\n",
       "      <th>count</th>\n",
       "      <td>612.000000</td>\n",
       "      <td>612.000000</td>\n",
       "      <td>590.000000</td>\n",
       "      <td>598.000000</td>\n",
       "      <td>563.000000</td>\n",
       "    </tr>\n",
       "    <tr>\n",
       "      <th>mean</th>\n",
       "      <td>5417.437908</td>\n",
       "      <td>1503.171438</td>\n",
       "      <td>146.162712</td>\n",
       "      <td>342.240803</td>\n",
       "      <td>0.841918</td>\n",
       "    </tr>\n",
       "    <tr>\n",
       "      <th>std</th>\n",
       "      <td>6113.985212</td>\n",
       "      <td>2062.456195</td>\n",
       "      <td>85.289086</td>\n",
       "      <td>64.886931</td>\n",
       "      <td>0.365142</td>\n",
       "    </tr>\n",
       "    <tr>\n",
       "      <th>min</th>\n",
       "      <td>150.000000</td>\n",
       "      <td>0.000000</td>\n",
       "      <td>9.000000</td>\n",
       "      <td>12.000000</td>\n",
       "      <td>0.000000</td>\n",
       "    </tr>\n",
       "    <tr>\n",
       "      <th>25%</th>\n",
       "      <td>2887.250000</td>\n",
       "      <td>0.000000</td>\n",
       "      <td>100.000000</td>\n",
       "      <td>360.000000</td>\n",
       "      <td>1.000000</td>\n",
       "    </tr>\n",
       "    <tr>\n",
       "      <th>50%</th>\n",
       "      <td>3813.500000</td>\n",
       "      <td>1149.000000</td>\n",
       "      <td>128.000000</td>\n",
       "      <td>360.000000</td>\n",
       "      <td>1.000000</td>\n",
       "    </tr>\n",
       "    <tr>\n",
       "      <th>75%</th>\n",
       "      <td>5803.750000</td>\n",
       "      <td>2277.000000</td>\n",
       "      <td>167.750000</td>\n",
       "      <td>360.000000</td>\n",
       "      <td>1.000000</td>\n",
       "    </tr>\n",
       "    <tr>\n",
       "      <th>max</th>\n",
       "      <td>81000.000000</td>\n",
       "      <td>20000.000000</td>\n",
       "      <td>700.000000</td>\n",
       "      <td>480.000000</td>\n",
       "      <td>1.000000</td>\n",
       "    </tr>\n",
       "  </tbody>\n",
       "</table>\n",
       "</div>"
      ],
      "text/plain": [
       "       ApplicantIncome  CoapplicantIncome  LoanAmount  Loan_Amount_Term  \\\n",
       "count       612.000000         612.000000  590.000000        598.000000   \n",
       "mean       5417.437908        1503.171438  146.162712        342.240803   \n",
       "std        6113.985212        2062.456195   85.289086         64.886931   \n",
       "min         150.000000           0.000000    9.000000         12.000000   \n",
       "25%        2887.250000           0.000000  100.000000        360.000000   \n",
       "50%        3813.500000        1149.000000  128.000000        360.000000   \n",
       "75%        5803.750000        2277.000000  167.750000        360.000000   \n",
       "max       81000.000000       20000.000000  700.000000        480.000000   \n",
       "\n",
       "       Credit_History  \n",
       "count      563.000000  \n",
       "mean         0.841918  \n",
       "std          0.365142  \n",
       "min          0.000000  \n",
       "25%          1.000000  \n",
       "50%          1.000000  \n",
       "75%          1.000000  \n",
       "max          1.000000  "
      ]
     },
     "execution_count": 27,
     "metadata": {},
     "output_type": "execute_result"
    }
   ],
   "source": [
    "dataframe.describe()"
   ]
  },
  {
   "cell_type": "code",
   "execution_count": 28,
   "metadata": {},
   "outputs": [
    {
     "data": {
      "image/png": "[encoded data removed]",
      "text/plain": [
       "<Figure size 1000x600 with 2 Axes>"
      ]
     },
     "metadata": {},
     "output_type": "display_data"
    }
   ],
   "source": [
    "fig,ax=plt.subplots(nrows=1,ncols=2,figsize=(10,6))\n",
    "fig.patch.set_facecolor('lightblue')\n",
    "\n",
    "ax[0].hist(x=dataframe['LoanAmount'])\n",
    "ax[0].set_title('LoanAmount')\n",
    "ax[0].set_xlabel('LoanAmount')\n",
    "ax[0].set_ylabel('Frequency')  #   ax[0:0],ax[1:1]\n",
    "ax[0].grid(True)\n",
    "ax[0].set_facecolor('lightgray')\n",
    "\n",
    "ax[1].hist(x=dataframe['Loan_Amount_Term'])\n",
    "ax[1].set_title('Loan_Amount_Term')\n",
    "ax[1].set_xlabel('Loan_Amount_Term')\n",
    "ax[1].set_ylabel('Frequency')\n",
    "ax[1].grid(True)\n",
    "ax[1].set_facecolor('lightgray')\n",
    "\n",
    "#From output distributions are not that bad"
   ]
  },
  {
   "cell_type": "markdown",
   "metadata": {},
   "source": [
    "## Dealing with missing values"
   ]
  },
  {
   "cell_type": "code",
   "execution_count": 29,
   "metadata": {},
   "outputs": [
    {
     "data": {
      "text/plain": [
       "<Axes: >"
      ]
     },
     "execution_count": 29,
     "metadata": {},
     "output_type": "execute_result"
    },
    {
     "data": {
      "text/plain": [
       "<Figure size 600x600 with 0 Axes>"
      ]
     },
     "metadata": {},
     "output_type": "display_data"
    },
    {
     "data": {
      "image/png": "[encoded data removed]",
      "text/plain": [
       "<Figure size 2000x1200 with 2 Axes>"
      ]
     },
     "metadata": {},
     "output_type": "display_data"
    }
   ],
   "source": [
    "import missingno as msno\n",
    "plt.figure(figsize=(6,6))\n",
    "msno.heatmap(dataframe)\n",
    "#msno.dendrogram(dataframe)\n",
    "#msno.bar(dataframe)\n",
    "#msno.matrix(dataframe)"
   ]
  },
  {
   "cell_type": "code",
   "execution_count": 30,
   "metadata": {},
   "outputs": [
    {
     "name": "stdout",
     "output_type": "stream",
     "text": [
      "<class 'pandas.core.frame.DataFrame'>\n",
      "Index: 612 entries, 0 to 613\n",
      "Data columns (total 13 columns):\n",
      " #   Column             Non-Null Count  Dtype   \n",
      "---  ------             --------------  -----   \n",
      " 0   Loan_ID            612 non-null    object  \n",
      " 1   Gender             599 non-null    category\n",
      " 2   Married            609 non-null    category\n",
      " 3   Dependents         597 non-null    category\n",
      " 4   Education          612 non-null    category\n",
      " 5   Self_Employed      581 non-null    category\n",
      " 6   ApplicantIncome    612 non-null    float64 \n",
      " 7   CoapplicantIncome  612 non-null    float64 \n",
      " 8   LoanAmount         590 non-null    float64 \n",
      " 9   Loan_Amount_Term   598 non-null    float64 \n",
      " 10  Credit_History     563 non-null    float64 \n",
      " 11  Property_Area      612 non-null    category\n",
      " 12  Loan_Status        612 non-null    category\n",
      "dtypes: category(7), float64(5), object(1)\n",
      "memory usage: 38.6+ KB\n"
     ]
    }
   ],
   "source": [
    "dataframe.info()"
   ]
  },
  {
   "cell_type": "code",
   "execution_count": 31,
   "metadata": {},
   "outputs": [
    {
     "data": {
      "text/plain": [
       "Index([], dtype='object')"
      ]
     },
     "execution_count": 31,
     "metadata": {},
     "output_type": "execute_result"
    }
   ],
   "source": [
    "#using a threshold to define the maximum number of missing values in a row\n",
    "# the threshold is 0.1 of the length of the dataframe amounting thatto aroung 61 rows \n",
    "# note that any column with 61 or more misssing vales is dropped \n",
    "\n",
    "threshold = 0.1*len(dataframe)#61.2 i.e approximately 61 columns\n",
    "dataframe.columns[dataframe.isnull().sum() >= threshold]   \n",
    "\n",
    "# from output  no column has 61 or more rows with missing values therefore we keep them"
   ]
  },
  {
   "cell_type": "code",
   "execution_count": 32,
   "metadata": {},
   "outputs": [
    {
     "name": "stdout",
     "output_type": "stream",
     "text": [
      "Loan_Status\n",
      "Y    422\n",
      "N    190\n",
      "Name: count, dtype: int64\n"
     ]
    },
    {
     "data": {
      "text/plain": [
       "Loan_ID               0\n",
       "Gender               13\n",
       "Married               3\n",
       "Dependents           15\n",
       "Education             0\n",
       "Self_Employed        31\n",
       "ApplicantIncome       0\n",
       "CoapplicantIncome     0\n",
       "LoanAmount           22\n",
       "Loan_Amount_Term     14\n",
       "Credit_History       49\n",
       "Property_Area         0\n",
       "Loan_Status           0\n",
       "dtype: int64"
      ]
     },
     "execution_count": 32,
     "metadata": {},
     "output_type": "execute_result"
    }
   ],
   "source": [
    "print(dataframe['Loan_Status'].value_counts())\n",
    "dataframe.isnull().sum()"
   ]
  },
  {
   "cell_type": "code",
   "execution_count": 33,
   "metadata": {},
   "outputs": [
    {
     "data": {
      "text/plain": [
       "Gender\n",
       "Male      0.814691\n",
       "Female    0.185309\n",
       "Name: proportion, dtype: float64"
      ]
     },
     "execution_count": 33,
     "metadata": {},
     "output_type": "execute_result"
    },
    {
     "data": {
      "image/png": "[encoded data removed]",
      "text/plain": [
       "<Figure size 640x480 with 1 Axes>"
      ]
     },
     "metadata": {},
     "output_type": "display_data"
    }
   ],
   "source": [
    "sns.countplot(data=dataframe,x='Gender')\n",
    "dataframe['Gender'].value_counts(normalize=True)"
   ]
  },
  {
   "cell_type": "code",
   "execution_count": 34,
   "metadata": {},
   "outputs": [
    {
     "name": "stdout",
     "output_type": "stream",
     "text": [
      "Female 2.409017\n",
      "Male 10.590983000000001\n"
     ]
    }
   ],
   "source": [
    "print(\"Female\",0.185309 * 13)\n",
    "print(\"Male\",0.814691 * 13)"
   ]
  },
  {
   "cell_type": "code",
   "execution_count": 35,
   "metadata": {},
   "outputs": [
    {
     "name": "stdout",
     "output_type": "stream",
     "text": [
      "Index([23, 126, 171, 188, 314, 334, 460, 467, 477, 507, 576, 588, 592], dtype='int64')\n"
     ]
    },
    {
     "data": {
      "text/plain": [
       "Loan_ID               0\n",
       "Gender                0\n",
       "Married               3\n",
       "Dependents           15\n",
       "Education             0\n",
       "Self_Employed        31\n",
       "ApplicantIncome       0\n",
       "CoapplicantIncome     0\n",
       "LoanAmount           22\n",
       "Loan_Amount_Term     14\n",
       "Credit_History       49\n",
       "Property_Area         0\n",
       "Loan_Status           0\n",
       "dtype: int64"
      ]
     },
     "execution_count": 35,
     "metadata": {},
     "output_type": "execute_result"
    }
   ],
   "source": [
    "missing_index=dataframe.loc[dataframe['Gender'].isnull() == True]\n",
    "missing_index=missing_index.index\n",
    "print(missing_index)\n",
    "for i in missing_index[0:2]:\n",
    "    dataframe.loc[i,\"Gender\"]=\"Female\"\n",
    "for i in missing_index[2:]:\n",
    "    dataframe.loc[i,\"Gender\"]=\"Male\" \n",
    "\n",
    "dataframe.isnull().sum()"
   ]
  },
  {
   "cell_type": "code",
   "execution_count": 36,
   "metadata": {},
   "outputs": [],
   "source": [
    "# dataframe['LoanAmount']=dataframe['LoanAmount'].fillna(0)\n",
    "# dataframe.isnull().sum()"
   ]
  },
  {
   "cell_type": "code",
   "execution_count": 37,
   "metadata": {},
   "outputs": [
    {
     "data": {
      "text/html": [
       "<div>\n",
       "<style scoped>\n",
       "    .dataframe tbody tr th:only-of-type {\n",
       "        vertical-align: middle;\n",
       "    }\n",
       "\n",
       "    .dataframe tbody tr th {\n",
       "        vertical-align: top;\n",
       "    }\n",
       "\n",
       "    .dataframe thead th {\n",
       "        text-align: right;\n",
       "    }\n",
       "</style>\n",
       "<table border=\"1\" class=\"dataframe\">\n",
       "  <thead>\n",
       "    <tr style=\"text-align: right;\">\n",
       "      <th></th>\n",
       "      <th>Loan_ID</th>\n",
       "      <th>Gender</th>\n",
       "      <th>Married</th>\n",
       "      <th>Dependents</th>\n",
       "      <th>Education</th>\n",
       "      <th>Self_Employed</th>\n",
       "      <th>ApplicantIncome</th>\n",
       "      <th>CoapplicantIncome</th>\n",
       "      <th>LoanAmount</th>\n",
       "      <th>Loan_Amount_Term</th>\n",
       "      <th>Credit_History</th>\n",
       "      <th>Property_Area</th>\n",
       "      <th>Loan_Status</th>\n",
       "    </tr>\n",
       "  </thead>\n",
       "  <tbody>\n",
       "    <tr>\n",
       "      <th>104</th>\n",
       "      <td>LP001357</td>\n",
       "      <td>Male</td>\n",
       "      <td>NaN</td>\n",
       "      <td>NaN</td>\n",
       "      <td>Graduate</td>\n",
       "      <td>No</td>\n",
       "      <td>3816.0</td>\n",
       "      <td>754.0</td>\n",
       "      <td>160.0</td>\n",
       "      <td>360.0</td>\n",
       "      <td>1.0</td>\n",
       "      <td>Urban</td>\n",
       "      <td>Y</td>\n",
       "    </tr>\n",
       "    <tr>\n",
       "      <th>228</th>\n",
       "      <td>LP001760</td>\n",
       "      <td>Male</td>\n",
       "      <td>NaN</td>\n",
       "      <td>NaN</td>\n",
       "      <td>Graduate</td>\n",
       "      <td>No</td>\n",
       "      <td>4758.0</td>\n",
       "      <td>0.0</td>\n",
       "      <td>158.0</td>\n",
       "      <td>480.0</td>\n",
       "      <td>1.0</td>\n",
       "      <td>Semiurban</td>\n",
       "      <td>Y</td>\n",
       "    </tr>\n",
       "    <tr>\n",
       "      <th>435</th>\n",
       "      <td>LP002393</td>\n",
       "      <td>Female</td>\n",
       "      <td>NaN</td>\n",
       "      <td>NaN</td>\n",
       "      <td>Graduate</td>\n",
       "      <td>No</td>\n",
       "      <td>10047.0</td>\n",
       "      <td>0.0</td>\n",
       "      <td>NaN</td>\n",
       "      <td>240.0</td>\n",
       "      <td>1.0</td>\n",
       "      <td>Semiurban</td>\n",
       "      <td>Y</td>\n",
       "    </tr>\n",
       "  </tbody>\n",
       "</table>\n",
       "</div>"
      ],
      "text/plain": [
       "      Loan_ID  Gender Married Dependents Education Self_Employed  \\\n",
       "104  LP001357    Male     NaN        NaN  Graduate            No   \n",
       "228  LP001760    Male     NaN        NaN  Graduate            No   \n",
       "435  LP002393  Female     NaN        NaN  Graduate            No   \n",
       "\n",
       "     ApplicantIncome  CoapplicantIncome  LoanAmount  Loan_Amount_Term  \\\n",
       "104           3816.0              754.0       160.0             360.0   \n",
       "228           4758.0                0.0       158.0             480.0   \n",
       "435          10047.0                0.0         NaN             240.0   \n",
       "\n",
       "     Credit_History Property_Area Loan_Status  \n",
       "104             1.0         Urban           Y  \n",
       "228             1.0     Semiurban           Y  \n",
       "435             1.0     Semiurban           Y  "
      ]
     },
     "execution_count": 37,
     "metadata": {},
     "output_type": "execute_result"
    }
   ],
   "source": [
    "dataframe.loc[dataframe['Married'].isnull() == True]"
   ]
  },
  {
   "cell_type": "code",
   "execution_count": 38,
   "metadata": {},
   "outputs": [
    {
     "data": {
      "text/plain": [
       "index                 0\n",
       "Loan_ID               0\n",
       "Gender                0\n",
       "Married               3\n",
       "Dependents           15\n",
       "Education             0\n",
       "Self_Employed        31\n",
       "ApplicantIncome       0\n",
       "CoapplicantIncome     0\n",
       "LoanAmount           22\n",
       "Loan_Amount_Term     14\n",
       "Credit_History       49\n",
       "Property_Area         0\n",
       "Loan_Status           0\n",
       "dtype: int64"
      ]
     },
     "execution_count": 38,
     "metadata": {},
     "output_type": "execute_result"
    }
   ],
   "source": [
    "dataframe=dataframe.reset_index(drop=False)\n",
    "dataframe.isnull().sum()"
   ]
  },
  {
   "cell_type": "code",
   "execution_count": 39,
   "metadata": {},
   "outputs": [],
   "source": [
    "dataframe['Married']=dataframe['Married'].cat.add_categories([\"Unknown\"])\n",
    "dataframe['Dependents']=dataframe['Dependents'].cat.add_categories([\"Unknown\"])\n",
    "for i in [104,228,435]:    \n",
    "    dataframe.loc[i,\"Married\"]=\"Unknown\"\n",
    "    dataframe.loc[i,\"Dependents\"]=\"Unknown\"\n",
    "dataframe['Dependents']=dataframe['Dependents'].fillna(\"Unknown\")"
   ]
  },
  {
   "cell_type": "code",
   "execution_count": 40,
   "metadata": {},
   "outputs": [
    {
     "data": {
      "text/plain": [
       "index                 0\n",
       "Loan_ID               0\n",
       "Gender                0\n",
       "Married               0\n",
       "Dependents            0\n",
       "Education             0\n",
       "Self_Employed        31\n",
       "ApplicantIncome       0\n",
       "CoapplicantIncome     0\n",
       "LoanAmount           22\n",
       "Loan_Amount_Term     14\n",
       "Credit_History       49\n",
       "Property_Area         0\n",
       "Loan_Status           0\n",
       "dtype: int64"
      ]
     },
     "execution_count": 40,
     "metadata": {},
     "output_type": "execute_result"
    }
   ],
   "source": [
    "dataframe.isnull().sum()"
   ]
  },
  {
   "cell_type": "code",
   "execution_count": 41,
   "metadata": {},
   "outputs": [
    {
     "data": {
      "image/png": "[encoded data removed]",
      "text/plain": [
       "<Figure size 640x480 with 1 Axes>"
      ]
     },
     "metadata": {},
     "output_type": "display_data"
    }
   ],
   "source": [
    "sns.countplot(data=dataframe ,x='Dependents')\n",
    "plt.show()"
   ]
  },
  {
   "cell_type": "code",
   "execution_count": 42,
   "metadata": {},
   "outputs": [
    {
     "data": {
      "image/png": "[encoded data removed]",
      "text/plain": [
       "<Figure size 640x480 with 1 Axes>"
      ]
     },
     "metadata": {},
     "output_type": "display_data"
    }
   ],
   "source": [
    "dataframe['Self_Employed']=dataframe['Self_Employed'].cat.add_categories([\"Unknown\"])\n",
    "dataframe['Self_Employed']=dataframe['Self_Employed'].fillna(\"Unknown\")\n",
    "sns.countplot(data=dataframe ,x='Self_Employed')\n",
    "plt.show()"
   ]
  },
  {
   "cell_type": "code",
   "execution_count": 43,
   "metadata": {},
   "outputs": [
    {
     "name": "stdout",
     "output_type": "stream",
     "text": [
      "    Married Dependents Self_Employed\n",
      "11      Yes          2       Unknown\n",
      "19      Yes          0       Unknown\n",
      "24      Yes          1       Unknown\n",
      "29       No          2       Unknown\n",
      "30      Yes          1       Unknown\n",
      "95       No          0       Unknown\n",
      "107      No          0       Unknown\n",
      "111     Yes          0       Unknown\n",
      "114      No          0       Unknown\n",
      "158      No          0       Unknown\n",
      "170     Yes          0       Unknown\n",
      "218     Yes          2       Unknown\n",
      "231     Yes          0       Unknown\n",
      "236     Yes          0       Unknown\n",
      "268      No          0       Unknown\n",
      "295     Yes         3+       Unknown\n",
      "333     Yes          0       Unknown\n",
      "336     Yes          1       Unknown\n",
      "344     Yes          2       Unknown\n",
      "374      No          0       Unknown\n",
      "380     Yes          0       Unknown\n",
      "385      No          1       Unknown\n",
      "411     Yes          0       Unknown\n",
      "432      No          0       Unknown\n",
      "447     Yes          0       Unknown\n",
      "463      No          1       Unknown\n",
      "468     Yes          2       Unknown\n",
      "535      No          0       Unknown\n",
      "542      No          1       Unknown\n",
      "579      No          0       Unknown\n",
      "599     Yes          0       Unknown\n"
     ]
    }
   ],
   "source": [
    "#checking for entries where there's more than one occurence of string 'unknown' in Married,Dependents and Self_Employed columns\n",
    "print(dataframe.loc[dataframe['Self_Employed']==\"Unknown\"][['Married','Dependents','Self_Employed']])\n",
    "#from ouput there's no occurence of twice the string when self_employed is unknown"
   ]
  },
  {
   "cell_type": "code",
   "execution_count": 44,
   "metadata": {},
   "outputs": [
    {
     "data": {
      "text/html": [
       "<div>\n",
       "<style scoped>\n",
       "    .dataframe tbody tr th:only-of-type {\n",
       "        vertical-align: middle;\n",
       "    }\n",
       "\n",
       "    .dataframe tbody tr th {\n",
       "        vertical-align: top;\n",
       "    }\n",
       "\n",
       "    .dataframe thead th {\n",
       "        text-align: right;\n",
       "    }\n",
       "</style>\n",
       "<table border=\"1\" class=\"dataframe\">\n",
       "  <thead>\n",
       "    <tr style=\"text-align: right;\">\n",
       "      <th></th>\n",
       "      <th>Married</th>\n",
       "      <th>Dependents</th>\n",
       "      <th>Self_Employed</th>\n",
       "    </tr>\n",
       "  </thead>\n",
       "  <tbody>\n",
       "    <tr>\n",
       "      <th>104</th>\n",
       "      <td>Unknown</td>\n",
       "      <td>Unknown</td>\n",
       "      <td>No</td>\n",
       "    </tr>\n",
       "    <tr>\n",
       "      <th>228</th>\n",
       "      <td>Unknown</td>\n",
       "      <td>Unknown</td>\n",
       "      <td>No</td>\n",
       "    </tr>\n",
       "    <tr>\n",
       "      <th>435</th>\n",
       "      <td>Unknown</td>\n",
       "      <td>Unknown</td>\n",
       "      <td>No</td>\n",
       "    </tr>\n",
       "  </tbody>\n",
       "</table>\n",
       "</div>"
      ],
      "text/plain": [
       "     Married Dependents Self_Employed\n",
       "104  Unknown    Unknown            No\n",
       "228  Unknown    Unknown            No\n",
       "435  Unknown    Unknown            No"
      ]
     },
     "execution_count": 44,
     "metadata": {},
     "output_type": "execute_result"
    }
   ],
   "source": [
    "dataframe.loc[dataframe['Married']==\"Unknown\"][['Married','Dependents','Self_Employed']]"
   ]
  },
  {
   "cell_type": "code",
   "execution_count": null,
   "metadata": {},
   "outputs": [
    {
     "data": {
      "text/html": [
       "<div>\n",
       "<style scoped>\n",
       "    .dataframe tbody tr th:only-of-type {\n",
       "        vertical-align: middle;\n",
       "    }\n",
       "\n",
       "    .dataframe tbody tr th {\n",
       "        vertical-align: top;\n",
       "    }\n",
       "\n",
       "    .dataframe thead th {\n",
       "        text-align: right;\n",
       "    }\n",
       "</style>\n",
       "<table border=\"1\" class=\"dataframe\">\n",
       "  <thead>\n",
       "    <tr style=\"text-align: right;\">\n",
       "      <th></th>\n",
       "      <th>Married</th>\n",
       "      <th>Dependents</th>\n",
       "      <th>Self_Employed</th>\n",
       "    </tr>\n",
       "  </thead>\n",
       "  <tbody>\n",
       "    <tr>\n",
       "      <th>102</th>\n",
       "      <td>Yes</td>\n",
       "      <td>Unknown</td>\n",
       "      <td>No</td>\n",
       "    </tr>\n",
       "    <tr>\n",
       "      <th>104</th>\n",
       "      <td>Unknown</td>\n",
       "      <td>Unknown</td>\n",
       "      <td>No</td>\n",
       "    </tr>\n",
       "    <tr>\n",
       "      <th>120</th>\n",
       "      <td>Yes</td>\n",
       "      <td>Unknown</td>\n",
       "      <td>No</td>\n",
       "    </tr>\n",
       "    <tr>\n",
       "      <th>226</th>\n",
       "      <td>Yes</td>\n",
       "      <td>Unknown</td>\n",
       "      <td>Yes</td>\n",
       "    </tr>\n",
       "    <tr>\n",
       "      <th>228</th>\n",
       "      <td>Unknown</td>\n",
       "      <td>Unknown</td>\n",
       "      <td>No</td>\n",
       "    </tr>\n",
       "    <tr>\n",
       "      <th>293</th>\n",
       "      <td>No</td>\n",
       "      <td>Unknown</td>\n",
       "      <td>No</td>\n",
       "    </tr>\n",
       "    <tr>\n",
       "      <th>301</th>\n",
       "      <td>Yes</td>\n",
       "      <td>Unknown</td>\n",
       "      <td>No</td>\n",
       "    </tr>\n",
       "    <tr>\n",
       "      <th>332</th>\n",
       "      <td>No</td>\n",
       "      <td>Unknown</td>\n",
       "      <td>No</td>\n",
       "    </tr>\n",
       "    <tr>\n",
       "      <th>335</th>\n",
       "      <td>Yes</td>\n",
       "      <td>Unknown</td>\n",
       "      <td>Yes</td>\n",
       "    </tr>\n",
       "    <tr>\n",
       "      <th>346</th>\n",
       "      <td>Yes</td>\n",
       "      <td>Unknown</td>\n",
       "      <td>No</td>\n",
       "    </tr>\n",
       "    <tr>\n",
       "      <th>355</th>\n",
       "      <td>No</td>\n",
       "      <td>Unknown</td>\n",
       "      <td>No</td>\n",
       "    </tr>\n",
       "    <tr>\n",
       "      <th>435</th>\n",
       "      <td>Unknown</td>\n",
       "      <td>Unknown</td>\n",
       "      <td>No</td>\n",
       "    </tr>\n",
       "    <tr>\n",
       "      <th>517</th>\n",
       "      <td>Yes</td>\n",
       "      <td>Unknown</td>\n",
       "      <td>No</td>\n",
       "    </tr>\n",
       "    <tr>\n",
       "      <th>571</th>\n",
       "      <td>Yes</td>\n",
       "      <td>Unknown</td>\n",
       "      <td>No</td>\n",
       "    </tr>\n",
       "    <tr>\n",
       "      <th>596</th>\n",
       "      <td>No</td>\n",
       "      <td>Unknown</td>\n",
       "      <td>No</td>\n",
       "    </tr>\n",
       "  </tbody>\n",
       "</table>\n",
       "</div>"
      ],
      "text/plain": [
       "     Married Dependents Self_Employed\n",
       "102      Yes    Unknown            No\n",
       "104  Unknown    Unknown            No\n",
       "120      Yes    Unknown            No\n",
       "226      Yes    Unknown           Yes\n",
       "228  Unknown    Unknown            No\n",
       "293       No    Unknown            No\n",
       "301      Yes    Unknown            No\n",
       "332       No    Unknown            No\n",
       "335      Yes    Unknown           Yes\n",
       "346      Yes    Unknown            No\n",
       "355       No    Unknown            No\n",
       "435  Unknown    Unknown            No\n",
       "517      Yes    Unknown            No\n",
       "571      Yes    Unknown            No\n",
       "596       No    Unknown            No"
      ]
     },
     "execution_count": 45,
     "metadata": {},
     "output_type": "execute_result"
    }
   ],
   "source": [
    "dataframe.loc[dataframe['Dependents']==\"Unknown\"][['Married','Dependents','Self_Employed']]"
   ]
  },
  {
   "cell_type": "code",
   "execution_count": 46,
   "metadata": {},
   "outputs": [
    {
     "data": {
      "text/html": [
       "<div>\n",
       "<style scoped>\n",
       "    .dataframe tbody tr th:only-of-type {\n",
       "        vertical-align: middle;\n",
       "    }\n",
       "\n",
       "    .dataframe tbody tr th {\n",
       "        vertical-align: top;\n",
       "    }\n",
       "\n",
       "    .dataframe thead th {\n",
       "        text-align: right;\n",
       "    }\n",
       "</style>\n",
       "<table border=\"1\" class=\"dataframe\">\n",
       "  <thead>\n",
       "    <tr style=\"text-align: right;\">\n",
       "      <th></th>\n",
       "      <th>Married</th>\n",
       "      <th>Dependents</th>\n",
       "      <th>Self_Employed</th>\n",
       "    </tr>\n",
       "  </thead>\n",
       "  <tbody>\n",
       "  </tbody>\n",
       "</table>\n",
       "</div>"
      ],
      "text/plain": [
       "Empty DataFrame\n",
       "Columns: [Married, Dependents, Self_Employed]\n",
       "Index: []"
      ]
     },
     "execution_count": 46,
     "metadata": {},
     "output_type": "execute_result"
    }
   ],
   "source": [
    "dataframe.loc[(dataframe['Self_Employed']==\"Unknown\") & (dataframe['Dependents']==\"Unknown\")][['Married','Dependents','Self_Employed']]"
   ]
  },
  {
   "cell_type": "code",
   "execution_count": 47,
   "metadata": {},
   "outputs": [
    {
     "data": {
      "text/plain": [
       "index                 0\n",
       "Loan_ID               0\n",
       "Gender                0\n",
       "Married               0\n",
       "Dependents            0\n",
       "Education             0\n",
       "Self_Employed         0\n",
       "ApplicantIncome       0\n",
       "CoapplicantIncome     0\n",
       "LoanAmount           22\n",
       "Loan_Amount_Term     14\n",
       "Credit_History       49\n",
       "Property_Area         0\n",
       "Loan_Status           0\n",
       "dtype: int64"
      ]
     },
     "execution_count": 47,
     "metadata": {},
     "output_type": "execute_result"
    }
   ],
   "source": [
    "dataframe.isnull().sum()"
   ]
  },
  {
   "cell_type": "code",
   "execution_count": 48,
   "metadata": {},
   "outputs": [
    {
     "data": {
      "image/png": "[encoded data removed]",
      "text/plain": [
       "<Figure size 640x480 with 1 Axes>"
      ]
     },
     "metadata": {},
     "output_type": "display_data"
    }
   ],
   "source": [
    "sns.boxplot(data=dataframe,x=\"LoanAmount\")\n",
    "plt.show()"
   ]
  },
  {
   "cell_type": "code",
   "execution_count": 49,
   "metadata": {},
   "outputs": [
    {
     "data": {
      "image/png": "[encoded data removed]",
      "text/plain": [
       "<Figure size 1000x600 with 2 Axes>"
      ]
     },
     "metadata": {},
     "output_type": "display_data"
    }
   ],
   "source": [
    "fig,ax=plt.subplots(nrows=1,ncols=2,figsize=(10,6))\n",
    "fig.patch.set_facecolor('lightblue')\n",
    "\n",
    "ax[0].hist(x=dataframe['LoanAmount'])\n",
    "ax[0].set_title('LoanAmount')\n",
    "ax[0].set_xlabel('LoanAmount')\n",
    "ax[0].set_ylabel('Frequency')  #   ax[0:0],ax[1:1]\n",
    "ax[0].grid(True)\n",
    "ax[0].set_facecolor('lightgray')\n",
    "\n",
    "ax[1].hist(x=dataframe['Loan_Amount_Term'])\n",
    "ax[1].set_title('Loan_Amount_Term')\n",
    "ax[1].set_xlabel('Loan_Amount_Term')\n",
    "ax[1].set_ylabel('Frequency')\n",
    "ax[1].grid(True)\n",
    "ax[1].set_facecolor('lightgray')\n",
    "\n",
    "#From output distributions are not that bad"
   ]
  },
  {
   "cell_type": "code",
   "execution_count": 50,
   "metadata": {},
   "outputs": [
    {
     "name": "stdout",
     "output_type": "stream",
     "text": [
      "Loan amount mean: 146.1627118644068\n",
      "Loan amount median: 128.0\n",
      "Loan amount term mean: 342.24080267558526\n",
      "Loan amount term median: 360.0\n"
     ]
    }
   ],
   "source": [
    "print(\"Loan amount mean:\",dataframe['LoanAmount'].mean())\n",
    "print(\"Loan amount median:\",dataframe['LoanAmount'].median())\n",
    "print(\"Loan amount term mean:\",dataframe['Loan_Amount_Term'].mean())\n",
    "print(\"Loan amount term median:\",dataframe['Loan_Amount_Term'].median())"
   ]
  },
  {
   "cell_type": "code",
   "execution_count": 51,
   "metadata": {},
   "outputs": [
    {
     "data": {
      "text/plain": [
       "index                 0\n",
       "Loan_ID               0\n",
       "Gender                0\n",
       "Married               0\n",
       "Dependents            0\n",
       "Education             0\n",
       "Self_Employed         0\n",
       "ApplicantIncome       0\n",
       "CoapplicantIncome     0\n",
       "LoanAmount            0\n",
       "Loan_Amount_Term      0\n",
       "Credit_History       49\n",
       "Property_Area         0\n",
       "Loan_Status           0\n",
       "dtype: int64"
      ]
     },
     "execution_count": 51,
     "metadata": {},
     "output_type": "execute_result"
    }
   ],
   "source": [
    "#When carrying out imputation when data of a continuous numerical variable is skewed the median ismost preffered imputation strategy as it is not affected by extremes\n",
    "#while when the data is having a normal distribution we use mean as mean and median are equal\n",
    "\n",
    "#In this case let's use the median\n",
    "from typing import List\n",
    "from sklearn.impute import SimpleImputer\n",
    "def imputations(df:pd.DataFrame,my_list):\n",
    "    \"\"\"This function is used to carry out imputation to colmns with skewed distributions.\n",
    "    It makes use of simple imputer from sklearn using the strategy median\n",
    "    Args:df:pd.DataFrame\n",
    "            pandas dataframe containing the to be imputed columns\n",
    "         list:list\n",
    "            list of columns to be imputed\n",
    "    Returns:\n",
    "      A dataframe with imputed columns            \n",
    "    \"\"\"\n",
    "    imputer=SimpleImputer(strategy='median')\n",
    "    df[my_list]=imputer.fit_transform(df[my_list])\n",
    "    return df\n",
    "\n",
    "my_list=['LoanAmount','Loan_Amount_Term']    \n",
    "dataframe=imputations(dataframe,my_list)\n",
    "\n",
    "dataframe.isnull().sum()"
   ]
  },
  {
   "cell_type": "code",
   "execution_count": 52,
   "metadata": {},
   "outputs": [
    {
     "data": {
      "image/png": "[encoded data removed]",
      "text/plain": [
       "<Figure size 1000x600 with 2 Axes>"
      ]
     },
     "metadata": {},
     "output_type": "display_data"
    }
   ],
   "source": [
    "#visualizing to see the difference\n",
    "fig,ax=plt.subplots(nrows=1,ncols=2,figsize=(10,6))\n",
    "fig.patch.set_facecolor('lightblue')\n",
    "\n",
    "ax[0].hist(x=dataframe['LoanAmount'])\n",
    "ax[0].set_title('LoanAmount')\n",
    "ax[0].set_xlabel('LoanAmount')\n",
    "ax[0].set_ylabel('Frequency')  #   ax[0:0],ax[1:1]\n",
    "ax[0].grid(True)\n",
    "ax[0].set_facecolor('lightgray')\n",
    "\n",
    "ax[1].hist(x=dataframe['Loan_Amount_Term'])\n",
    "ax[1].set_title('Loan_Amount_Term')\n",
    "ax[1].set_xlabel('Loan_Amount_Term')\n",
    "ax[1].set_ylabel('Frequency')\n",
    "ax[1].grid(True)\n",
    "ax[1].set_facecolor('lightgray')\n",
    "\n",
    "#From output distributions are not that bad\n",
    "#distributions kinda do remain same"
   ]
  },
  {
   "cell_type": "code",
   "execution_count": 53,
   "metadata": {},
   "outputs": [
    {
     "data": {
      "text/html": [
       "<div>\n",
       "<style scoped>\n",
       "    .dataframe tbody tr th:only-of-type {\n",
       "        vertical-align: middle;\n",
       "    }\n",
       "\n",
       "    .dataframe tbody tr th {\n",
       "        vertical-align: top;\n",
       "    }\n",
       "\n",
       "    .dataframe thead th {\n",
       "        text-align: right;\n",
       "    }\n",
       "</style>\n",
       "<table border=\"1\" class=\"dataframe\">\n",
       "  <thead>\n",
       "    <tr style=\"text-align: right;\">\n",
       "      <th></th>\n",
       "      <th>index</th>\n",
       "      <th>ApplicantIncome</th>\n",
       "      <th>CoapplicantIncome</th>\n",
       "      <th>LoanAmount</th>\n",
       "      <th>Loan_Amount_Term</th>\n",
       "      <th>Credit_History</th>\n",
       "    </tr>\n",
       "  </thead>\n",
       "  <tbody>\n",
       "    <tr>\n",
       "      <th>count</th>\n",
       "      <td>612.000000</td>\n",
       "      <td>612.000000</td>\n",
       "      <td>612.000000</td>\n",
       "      <td>612.000000</td>\n",
       "      <td>612.000000</td>\n",
       "      <td>563.000000</td>\n",
       "    </tr>\n",
       "    <tr>\n",
       "      <th>mean</th>\n",
       "      <td>305.571895</td>\n",
       "      <td>5417.437908</td>\n",
       "      <td>1503.171438</td>\n",
       "      <td>145.509804</td>\n",
       "      <td>342.647059</td>\n",
       "      <td>0.841918</td>\n",
       "    </tr>\n",
       "    <tr>\n",
       "      <th>std</th>\n",
       "      <td>176.933129</td>\n",
       "      <td>6113.985212</td>\n",
       "      <td>2062.456195</td>\n",
       "      <td>83.807871</td>\n",
       "      <td>64.194260</td>\n",
       "      <td>0.365142</td>\n",
       "    </tr>\n",
       "    <tr>\n",
       "      <th>min</th>\n",
       "      <td>0.000000</td>\n",
       "      <td>150.000000</td>\n",
       "      <td>0.000000</td>\n",
       "      <td>9.000000</td>\n",
       "      <td>12.000000</td>\n",
       "      <td>0.000000</td>\n",
       "    </tr>\n",
       "    <tr>\n",
       "      <th>25%</th>\n",
       "      <td>152.750000</td>\n",
       "      <td>2887.250000</td>\n",
       "      <td>0.000000</td>\n",
       "      <td>100.750000</td>\n",
       "      <td>360.000000</td>\n",
       "      <td>1.000000</td>\n",
       "    </tr>\n",
       "    <tr>\n",
       "      <th>50%</th>\n",
       "      <td>305.500000</td>\n",
       "      <td>3813.500000</td>\n",
       "      <td>1149.000000</td>\n",
       "      <td>128.000000</td>\n",
       "      <td>360.000000</td>\n",
       "      <td>1.000000</td>\n",
       "    </tr>\n",
       "    <tr>\n",
       "      <th>75%</th>\n",
       "      <td>458.250000</td>\n",
       "      <td>5803.750000</td>\n",
       "      <td>2277.000000</td>\n",
       "      <td>164.250000</td>\n",
       "      <td>360.000000</td>\n",
       "      <td>1.000000</td>\n",
       "    </tr>\n",
       "    <tr>\n",
       "      <th>max</th>\n",
       "      <td>613.000000</td>\n",
       "      <td>81000.000000</td>\n",
       "      <td>20000.000000</td>\n",
       "      <td>700.000000</td>\n",
       "      <td>480.000000</td>\n",
       "      <td>1.000000</td>\n",
       "    </tr>\n",
       "  </tbody>\n",
       "</table>\n",
       "</div>"
      ],
      "text/plain": [
       "            index  ApplicantIncome  CoapplicantIncome  LoanAmount  \\\n",
       "count  612.000000       612.000000         612.000000  612.000000   \n",
       "mean   305.571895      5417.437908        1503.171438  145.509804   \n",
       "std    176.933129      6113.985212        2062.456195   83.807871   \n",
       "min      0.000000       150.000000           0.000000    9.000000   \n",
       "25%    152.750000      2887.250000           0.000000  100.750000   \n",
       "50%    305.500000      3813.500000        1149.000000  128.000000   \n",
       "75%    458.250000      5803.750000        2277.000000  164.250000   \n",
       "max    613.000000     81000.000000       20000.000000  700.000000   \n",
       "\n",
       "       Loan_Amount_Term  Credit_History  \n",
       "count        612.000000      563.000000  \n",
       "mean         342.647059        0.841918  \n",
       "std           64.194260        0.365142  \n",
       "min           12.000000        0.000000  \n",
       "25%          360.000000        1.000000  \n",
       "50%          360.000000        1.000000  \n",
       "75%          360.000000        1.000000  \n",
       "max          480.000000        1.000000  "
      ]
     },
     "execution_count": 53,
     "metadata": {},
     "output_type": "execute_result"
    }
   ],
   "source": [
    "dataframe.describe()"
   ]
  },
  {
   "cell_type": "markdown",
   "metadata": {},
   "source": [
    "**Dealing with the credit history column**\n",
    "- Note the 0 indicates no credit history while the 1 indcates some credit history\n",
    "now how do we cater for the missing values without basically dropping down the rows\n",
    "- we can set missing values i.e unknown to 0 those with no history to 1 and those with history to 2,Reason for this cahange is because we want to create some order showing that one with credit history i.e 2 is higher than onw ith no credit history \n",
    "- which on the other hand is higher than one with unknown credit history i.e 0, we can do this by using the map function and lambda function"
   ]
  },
  {
   "cell_type": "code",
   "execution_count": 54,
   "metadata": {},
   "outputs": [
    {
     "name": "stdout",
     "output_type": "stream",
     "text": [
      "Credit_History\n",
      "1.0    474\n",
      "0.0     89\n",
      "NaN     49\n",
      "Name: count, dtype: int64\n"
     ]
    },
    {
     "data": {
      "text/plain": [
       "<Axes: xlabel='Credit_History', ylabel='count'>"
      ]
     },
     "execution_count": 54,
     "metadata": {},
     "output_type": "execute_result"
    },
    {
     "data": {
      "image/png": "[encoded data removed]",
      "text/plain": [
       "<Figure size 640x480 with 1 Axes>"
      ]
     },
     "metadata": {},
     "output_type": "display_data"
    }
   ],
   "source": [
    "print(dataframe['Credit_History'].value_counts(dropna=False))\n",
    "sns.countplot(data=dataframe,x=\"Credit_History\")"
   ]
  },
  {
   "cell_type": "code",
   "execution_count": 55,
   "metadata": {},
   "outputs": [
    {
     "name": "stdout",
     "output_type": "stream",
     "text": [
      "Credit_History\n",
      "2    474\n",
      "1     89\n",
      "0     49\n",
      "Name: count, dtype: int64\n"
     ]
    },
    {
     "data": {
      "text/plain": [
       "<Axes: xlabel='Credit_History', ylabel='count'>"
      ]
     },
     "execution_count": 55,
     "metadata": {},
     "output_type": "execute_result"
    },
    {
     "data": {
      "image/png": "[encoded data removed]",
      "text/plain": [
       "<Figure size 640x480 with 1 Axes>"
      ]
     },
     "metadata": {},
     "output_type": "display_data"
    }
   ],
   "source": [
    "dataframe['Credit_History']=dataframe['Credit_History'].fillna(\"Unknown\")\n",
    "dataframe['Credit_History'] = dataframe['Credit_History'].map(lambda x: 0 if x == 'Unknown' else 1 if x == 0.0 else 2)\n",
    "print(dataframe['Credit_History'].value_counts(dropna=False))\n",
    "sns.countplot(data=dataframe,x=\"Credit_History\")"
   ]
  },
  {
   "cell_type": "code",
   "execution_count": 56,
   "metadata": {},
   "outputs": [
    {
     "data": {
      "text/plain": [
       "dtype('int64')"
      ]
     },
     "execution_count": 56,
     "metadata": {},
     "output_type": "execute_result"
    }
   ],
   "source": [
    "dataframe['Credit_History'].dtype"
   ]
  },
  {
   "cell_type": "markdown",
   "metadata": {},
   "source": [
    "- **Things not done but to highlight**:\n",
    "   1. interpolation(Quadratic,linear,nearest value)\n",
    "   2. hypothesis testing\n",
    "   3. distributions \n",
    "   4. fillna\n",
    "\n",
    "- We have done various data preprocessing concepts i.e data cleaning:\n",
    "   1. data type validation\n",
    "   2. dealing with missing values\n",
    "   3. dealing with some outliers\n",
    "- **Let's delve a little deeper to make the data now preproceesed to use for the model by carrying out**\n",
    "  1. encoding of categorical columns\n",
    "  2. standardization if need be\n",
    "  3. this been a classification task oversampling might also be required   \n",
    "\n",
    "   "
   ]
  },
  {
   "cell_type": "markdown",
   "metadata": {},
   "source": [
    "**Data Encoding**\n",
    "- There are tw major branches of data encoding o.e nominal encoding and ordinal encoding which fall under nominal and categorical data respectively\n",
    "- Thus various categorical columns call for different encoding techniques as per their type that is nominal and ordinal\n",
    "- we are going to start with nominal i.e loan_ID,Gender,Married,Self Employed\n"
   ]
  },
  {
   "cell_type": "code",
   "execution_count": 57,
   "metadata": {},
   "outputs": [
    {
     "data": {
      "text/html": [
       "<div>\n",
       "<style scoped>\n",
       "    .dataframe tbody tr th:only-of-type {\n",
       "        vertical-align: middle;\n",
       "    }\n",
       "\n",
       "    .dataframe tbody tr th {\n",
       "        vertical-align: top;\n",
       "    }\n",
       "\n",
       "    .dataframe thead th {\n",
       "        text-align: right;\n",
       "    }\n",
       "</style>\n",
       "<table border=\"1\" class=\"dataframe\">\n",
       "  <thead>\n",
       "    <tr style=\"text-align: right;\">\n",
       "      <th></th>\n",
       "      <th>Loan_ID</th>\n",
       "      <th>Gender</th>\n",
       "      <th>Married</th>\n",
       "      <th>Dependents</th>\n",
       "      <th>Education</th>\n",
       "      <th>Self_Employed</th>\n",
       "      <th>Property_Area</th>\n",
       "      <th>Loan_Status</th>\n",
       "    </tr>\n",
       "  </thead>\n",
       "  <tbody>\n",
       "    <tr>\n",
       "      <th>0</th>\n",
       "      <td>LP001002</td>\n",
       "      <td>Male</td>\n",
       "      <td>No</td>\n",
       "      <td>0</td>\n",
       "      <td>Graduate</td>\n",
       "      <td>No</td>\n",
       "      <td>Urban</td>\n",
       "      <td>Y</td>\n",
       "    </tr>\n",
       "    <tr>\n",
       "      <th>1</th>\n",
       "      <td>LP001003</td>\n",
       "      <td>Male</td>\n",
       "      <td>Yes</td>\n",
       "      <td>1</td>\n",
       "      <td>Graduate</td>\n",
       "      <td>No</td>\n",
       "      <td>Rural</td>\n",
       "      <td>N</td>\n",
       "    </tr>\n",
       "    <tr>\n",
       "      <th>2</th>\n",
       "      <td>LP001005</td>\n",
       "      <td>Male</td>\n",
       "      <td>Yes</td>\n",
       "      <td>0</td>\n",
       "      <td>Graduate</td>\n",
       "      <td>Yes</td>\n",
       "      <td>Urban</td>\n",
       "      <td>Y</td>\n",
       "    </tr>\n",
       "    <tr>\n",
       "      <th>3</th>\n",
       "      <td>LP001006</td>\n",
       "      <td>Male</td>\n",
       "      <td>Yes</td>\n",
       "      <td>0</td>\n",
       "      <td>Not Graduate</td>\n",
       "      <td>No</td>\n",
       "      <td>Urban</td>\n",
       "      <td>Y</td>\n",
       "    </tr>\n",
       "    <tr>\n",
       "      <th>4</th>\n",
       "      <td>LP001008</td>\n",
       "      <td>Male</td>\n",
       "      <td>No</td>\n",
       "      <td>0</td>\n",
       "      <td>Graduate</td>\n",
       "      <td>No</td>\n",
       "      <td>Urban</td>\n",
       "      <td>Y</td>\n",
       "    </tr>\n",
       "    <tr>\n",
       "      <th>...</th>\n",
       "      <td>...</td>\n",
       "      <td>...</td>\n",
       "      <td>...</td>\n",
       "      <td>...</td>\n",
       "      <td>...</td>\n",
       "      <td>...</td>\n",
       "      <td>...</td>\n",
       "      <td>...</td>\n",
       "    </tr>\n",
       "    <tr>\n",
       "      <th>607</th>\n",
       "      <td>LP002978</td>\n",
       "      <td>Female</td>\n",
       "      <td>No</td>\n",
       "      <td>0</td>\n",
       "      <td>Graduate</td>\n",
       "      <td>No</td>\n",
       "      <td>Rural</td>\n",
       "      <td>Y</td>\n",
       "    </tr>\n",
       "    <tr>\n",
       "      <th>608</th>\n",
       "      <td>LP002979</td>\n",
       "      <td>Male</td>\n",
       "      <td>Yes</td>\n",
       "      <td>3+</td>\n",
       "      <td>Graduate</td>\n",
       "      <td>No</td>\n",
       "      <td>Rural</td>\n",
       "      <td>Y</td>\n",
       "    </tr>\n",
       "    <tr>\n",
       "      <th>609</th>\n",
       "      <td>LP002983</td>\n",
       "      <td>Male</td>\n",
       "      <td>Yes</td>\n",
       "      <td>1</td>\n",
       "      <td>Graduate</td>\n",
       "      <td>No</td>\n",
       "      <td>Urban</td>\n",
       "      <td>Y</td>\n",
       "    </tr>\n",
       "    <tr>\n",
       "      <th>610</th>\n",
       "      <td>LP002984</td>\n",
       "      <td>Male</td>\n",
       "      <td>Yes</td>\n",
       "      <td>2</td>\n",
       "      <td>Graduate</td>\n",
       "      <td>No</td>\n",
       "      <td>Urban</td>\n",
       "      <td>Y</td>\n",
       "    </tr>\n",
       "    <tr>\n",
       "      <th>611</th>\n",
       "      <td>LP002990</td>\n",
       "      <td>Female</td>\n",
       "      <td>No</td>\n",
       "      <td>0</td>\n",
       "      <td>Graduate</td>\n",
       "      <td>Yes</td>\n",
       "      <td>Semiurban</td>\n",
       "      <td>N</td>\n",
       "    </tr>\n",
       "  </tbody>\n",
       "</table>\n",
       "<p>612 rows × 8 columns</p>\n",
       "</div>"
      ],
      "text/plain": [
       "      Loan_ID  Gender Married Dependents     Education Self_Employed  \\\n",
       "0    LP001002    Male      No          0      Graduate            No   \n",
       "1    LP001003    Male     Yes          1      Graduate            No   \n",
       "2    LP001005    Male     Yes          0      Graduate           Yes   \n",
       "3    LP001006    Male     Yes          0  Not Graduate            No   \n",
       "4    LP001008    Male      No          0      Graduate            No   \n",
       "..        ...     ...     ...        ...           ...           ...   \n",
       "607  LP002978  Female      No          0      Graduate            No   \n",
       "608  LP002979    Male     Yes         3+      Graduate            No   \n",
       "609  LP002983    Male     Yes          1      Graduate            No   \n",
       "610  LP002984    Male     Yes          2      Graduate            No   \n",
       "611  LP002990  Female      No          0      Graduate           Yes   \n",
       "\n",
       "    Property_Area Loan_Status  \n",
       "0           Urban           Y  \n",
       "1           Rural           N  \n",
       "2           Urban           Y  \n",
       "3           Urban           Y  \n",
       "4           Urban           Y  \n",
       "..            ...         ...  \n",
       "607         Rural           Y  \n",
       "608         Rural           Y  \n",
       "609         Urban           Y  \n",
       "610         Urban           Y  \n",
       "611     Semiurban           N  \n",
       "\n",
       "[612 rows x 8 columns]"
      ]
     },
     "execution_count": 57,
     "metadata": {},
     "output_type": "execute_result"
    }
   ],
   "source": [
    "dataframe=dataframe.reset_index(drop=True)\n",
    "dataframe.select_dtypes(exclude=['int','float'])"
   ]
  },
  {
   "cell_type": "markdown",
   "metadata": {},
   "source": [
    "LoanID"
   ]
  },
  {
   "cell_type": "code",
   "execution_count": 58,
   "metadata": {},
   "outputs": [
    {
     "name": "stdout",
     "output_type": "stream",
     "text": [
      "612\n",
      "612\n"
     ]
    }
   ],
   "source": [
    "print(len(dataframe['Loan_ID'].str.contains(\"LP00\")))\n",
    "#from output all rows have a common part of the string \"LP00\" in the Loan_ID column\n",
    "\n",
    "def make_loan_id_numerical(df:pd.DataFrame,col:str)->pd.DataFrame:\n",
    "    \"\"\" Remove the common part of all loanid entiries in all rows to mremain with the numeical parts only\"\"\"\n",
    "    df[col] = df[col].str.replace(\"LP00\", \"\")\n",
    "    return df\n",
    "\n",
    "dataframe=make_loan_id_numerical(dataframe, \"Loan_ID\")    \n",
    "print(dataframe['Loan_ID'].nunique())"
   ]
  },
  {
   "cell_type": "code",
   "execution_count": 59,
   "metadata": {},
   "outputs": [
    {
     "name": "stdout",
     "output_type": "stream",
     "text": [
      "object\n",
      "int32\n"
     ]
    }
   ],
   "source": [
    "print(dataframe['Loan_ID'].dtype)\n",
    "dataframe['Loan_ID'] = dataframe['Loan_ID'].astype('int')\n",
    "print(dataframe['Loan_ID'].dtype)\n",
    "#the pandas series allowing for a conversion to numerical indcates that all entries/rows of the Loan_ID columns are valid to be converted to int datatype\n"
   ]
  },
  {
   "cell_type": "code",
   "execution_count": 60,
   "metadata": {},
   "outputs": [
    {
     "data": {
      "image/png": "[encoded data removed]",
      "text/plain": [
       "<Figure size 640x480 with 1 Axes>"
      ]
     },
     "metadata": {},
     "output_type": "display_data"
    }
   ],
   "source": [
    "#Let's us visualize the column which should have a uniform distribution as all entries are unique and ccur only once\n",
    "sns.countplot(data=dataframe,x=\"Loan_ID\")\n",
    "plt.show()"
   ]
  },
  {
   "cell_type": "markdown",
   "metadata": {},
   "source": [
    "- Gender,Married,Self Employed:\n",
    "  - We are going use ordinal encoding as we do not have many categories for each column i.e gender has 2,married has 3 and self_employed has 3\n",
    "  - Note for each column the number of columns we get are number of categories -1\n",
    "  - Therefore i expect 3+3+2-3=5 new columns and the final dataframe should have (13-3)+5=15 columns "
   ]
  },
  {
   "cell_type": "code",
   "execution_count": 61,
   "metadata": {},
   "outputs": [
    {
     "name": "stdout",
     "output_type": "stream",
     "text": [
      "Gender\n",
      "Male      499\n",
      "Female    113\n",
      "Name: count, dtype: int64\n",
      "\n",
      "Married\n",
      "Yes        398\n",
      "No         211\n",
      "Unknown      3\n",
      "Name: count, dtype: int64\n",
      "\n",
      "Self_Employed\n",
      "No         499\n",
      "Yes         82\n",
      "Unknown     31\n",
      "Name: count, dtype: int64\n"
     ]
    }
   ],
   "source": [
    "print(dataframe['Gender'].value_counts(dropna=False))\n",
    "print()\n",
    "print(dataframe['Married'].value_counts(dropna=False))\n",
    "print()\n",
    "print(dataframe['Self_Employed'].value_counts(dropna=False))"
   ]
  },
  {
   "cell_type": "markdown",
   "metadata": {},
   "source": [
    "- When sparse_output=True (default), the output is returned as a sparse matrix\n",
    ",When sparse_output=False, the output is returned as a regular dense numpy array\n",
    "- Sparse matrices are memory efficient when you have lots of zeros in your data because they only store non-zero values [1]\n",
    "- Use sparse_output=False when you want to directly work with the array or integrate with other libraries that don't handle sparse matrices well"
   ]
  },
  {
   "cell_type": "code",
   "execution_count": null,
   "metadata": {},
   "outputs": [
    {
     "data": {
      "text/html": [
       "<div>\n",
       "<style scoped>\n",
       "    .dataframe tbody tr th:only-of-type {\n",
       "        vertical-align: middle;\n",
       "    }\n",
       "\n",
       "    .dataframe tbody tr th {\n",
       "        vertical-align: top;\n",
       "    }\n",
       "\n",
       "    .dataframe thead th {\n",
       "        text-align: right;\n",
       "    }\n",
       "</style>\n",
       "<table border=\"1\" class=\"dataframe\">\n",
       "  <thead>\n",
       "    <tr style=\"text-align: right;\">\n",
       "      <th></th>\n",
       "      <th>Gender_Male</th>\n",
       "      <th>Married_Unknown</th>\n",
       "      <th>Married_Yes</th>\n",
       "      <th>Self_Employed_Unknown</th>\n",
       "      <th>Self_Employed_Yes</th>\n",
       "    </tr>\n",
       "  </thead>\n",
       "  <tbody>\n",
       "    <tr>\n",
       "      <th>0</th>\n",
       "      <td>1.0</td>\n",
       "      <td>0.0</td>\n",
       "      <td>0.0</td>\n",
       "      <td>0.0</td>\n",
       "      <td>0.0</td>\n",
       "    </tr>\n",
       "    <tr>\n",
       "      <th>1</th>\n",
       "      <td>1.0</td>\n",
       "      <td>0.0</td>\n",
       "      <td>1.0</td>\n",
       "      <td>0.0</td>\n",
       "      <td>0.0</td>\n",
       "    </tr>\n",
       "    <tr>\n",
       "      <th>2</th>\n",
       "      <td>1.0</td>\n",
       "      <td>0.0</td>\n",
       "      <td>1.0</td>\n",
       "      <td>0.0</td>\n",
       "      <td>1.0</td>\n",
       "    </tr>\n",
       "    <tr>\n",
       "      <th>3</th>\n",
       "      <td>1.0</td>\n",
       "      <td>0.0</td>\n",
       "      <td>1.0</td>\n",
       "      <td>0.0</td>\n",
       "      <td>0.0</td>\n",
       "    </tr>\n",
       "    <tr>\n",
       "      <th>4</th>\n",
       "      <td>1.0</td>\n",
       "      <td>0.0</td>\n",
       "      <td>0.0</td>\n",
       "      <td>0.0</td>\n",
       "      <td>0.0</td>\n",
       "    </tr>\n",
       "    <tr>\n",
       "      <th>...</th>\n",
       "      <td>...</td>\n",
       "      <td>...</td>\n",
       "      <td>...</td>\n",
       "      <td>...</td>\n",
       "      <td>...</td>\n",
       "    </tr>\n",
       "    <tr>\n",
       "      <th>607</th>\n",
       "      <td>0.0</td>\n",
       "      <td>0.0</td>\n",
       "      <td>0.0</td>\n",
       "      <td>0.0</td>\n",
       "      <td>0.0</td>\n",
       "    </tr>\n",
       "    <tr>\n",
       "      <th>608</th>\n",
       "      <td>1.0</td>\n",
       "      <td>0.0</td>\n",
       "      <td>1.0</td>\n",
       "      <td>0.0</td>\n",
       "      <td>0.0</td>\n",
       "    </tr>\n",
       "    <tr>\n",
       "      <th>609</th>\n",
       "      <td>1.0</td>\n",
       "      <td>0.0</td>\n",
       "      <td>1.0</td>\n",
       "      <td>0.0</td>\n",
       "      <td>0.0</td>\n",
       "    </tr>\n",
       "    <tr>\n",
       "      <th>610</th>\n",
       "      <td>1.0</td>\n",
       "      <td>0.0</td>\n",
       "      <td>1.0</td>\n",
       "      <td>0.0</td>\n",
       "      <td>0.0</td>\n",
       "    </tr>\n",
       "    <tr>\n",
       "      <th>611</th>\n",
       "      <td>0.0</td>\n",
       "      <td>0.0</td>\n",
       "      <td>0.0</td>\n",
       "      <td>0.0</td>\n",
       "      <td>1.0</td>\n",
       "    </tr>\n",
       "  </tbody>\n",
       "</table>\n",
       "<p>612 rows × 5 columns</p>\n",
       "</div>"
      ],
      "text/plain": [
       "     Gender_Male  Married_Unknown  Married_Yes  Self_Employed_Unknown  \\\n",
       "0            1.0              0.0          0.0                    0.0   \n",
       "1            1.0              0.0          1.0                    0.0   \n",
       "2            1.0              0.0          1.0                    0.0   \n",
       "3            1.0              0.0          1.0                    0.0   \n",
       "4            1.0              0.0          0.0                    0.0   \n",
       "..           ...              ...          ...                    ...   \n",
       "607          0.0              0.0          0.0                    0.0   \n",
       "608          1.0              0.0          1.0                    0.0   \n",
       "609          1.0              0.0          1.0                    0.0   \n",
       "610          1.0              0.0          1.0                    0.0   \n",
       "611          0.0              0.0          0.0                    0.0   \n",
       "\n",
       "     Self_Employed_Yes  \n",
       "0                  0.0  \n",
       "1                  0.0  \n",
       "2                  1.0  \n",
       "3                  0.0  \n",
       "4                  0.0  \n",
       "..                 ...  \n",
       "607                0.0  \n",
       "608                0.0  \n",
       "609                0.0  \n",
       "610                0.0  \n",
       "611                1.0  \n",
       "\n",
       "[612 rows x 5 columns]"
      ]
     },
     "execution_count": 62,
     "metadata": {},
     "output_type": "execute_result"
    }
   ],
   "source": [
    "#To carry out one hot encoding we use onehotencoder form sklearn or pandas method get_dummies\n",
    "\n",
    "from sklearn.preprocessing import OneHotEncoder\n",
    "import pandas as pd\n",
    "oh=OneHotEncoder(drop='first',sparse_output=False)# drop='last' removes one column to avoid dummy variable trap\n",
    "#when sparse_output=False, the output is returned as a regular dense numpy array\n",
    "\n",
    "encoded_array=oh.fit_transform(dataframe[['Gender','Married','Self_Employed']])\n",
    "\n",
    "#get_feature_names\n",
    "feature_names=oh.get_feature_names_out(['Gender', 'Married', 'Self_Employed'])\n",
    "\n",
    "#dataframe creation\n",
    "encoded_dataframe=pd.DataFrame(encoded_array, columns=feature_names)\n",
    "encoded_dataframe"
   ]
  },
  {
   "cell_type": "code",
   "execution_count": 63,
   "metadata": {},
   "outputs": [
    {
     "name": "stdout",
     "output_type": "stream",
     "text": [
      "I now have: 16  columns\n"
     ]
    },
    {
     "data": {
      "text/plain": [
       "Index(['index', 'Loan_ID', 'Dependents', 'Education', 'ApplicantIncome',\n",
       "       'CoapplicantIncome', 'LoanAmount', 'Loan_Amount_Term', 'Credit_History',\n",
       "       'Property_Area', 'Loan_Status', 'Gender_Male', 'Married_Unknown',\n",
       "       'Married_Yes', 'Self_Employed_Unknown', 'Self_Employed_Yes'],\n",
       "      dtype='object')"
      ]
     },
     "execution_count": 63,
     "metadata": {},
     "output_type": "execute_result"
    }
   ],
   "source": [
    "from pyspark.sql.functions import col\n",
    "def editting_dataframe(encoded:pd.DataFrame,original:pd.DataFrame)->pd.DataFrame:\n",
    "    \"\"\"This function is used to create columns in the coriginal dataframe that are in the 2nd dataframe.\n",
    "    Args:\n",
    "    encoded (pd.DataFrame): The encoded dataframe.\n",
    "    original (pd.DataFrame): The originaldataframe.\n",
    "    Returns:\n",
    "    pd.DataFrame: The original dataframe with the columns from the encoded\n",
    "    dataframe.\n",
    "    \"\"\"\n",
    "    for col in encoded.columns:\n",
    "        original[col] = encoded[col]\n",
    "    original=original.drop(columns=['Gender','Married','Self_Employed'])\n",
    "    return original\n",
    "\n",
    "dataframe=editting_dataframe(encoded_dataframe,dataframe)\n",
    "print(\"I now have:\",len(dataframe.columns),\" columns\")\n",
    "dataframe.columns\n",
    "             "
   ]
  },
  {
   "cell_type": "code",
   "execution_count": 64,
   "metadata": {},
   "outputs": [
    {
     "data": {
      "text/html": [
       "<div>\n",
       "<style scoped>\n",
       "    .dataframe tbody tr th:only-of-type {\n",
       "        vertical-align: middle;\n",
       "    }\n",
       "\n",
       "    .dataframe tbody tr th {\n",
       "        vertical-align: top;\n",
       "    }\n",
       "\n",
       "    .dataframe thead th {\n",
       "        text-align: right;\n",
       "    }\n",
       "</style>\n",
       "<table border=\"1\" class=\"dataframe\">\n",
       "  <thead>\n",
       "    <tr style=\"text-align: right;\">\n",
       "      <th></th>\n",
       "      <th>Loan_ID</th>\n",
       "      <th>Dependents</th>\n",
       "      <th>Education</th>\n",
       "      <th>ApplicantIncome</th>\n",
       "      <th>CoapplicantIncome</th>\n",
       "      <th>LoanAmount</th>\n",
       "      <th>Loan_Amount_Term</th>\n",
       "      <th>Credit_History</th>\n",
       "      <th>Property_Area</th>\n",
       "      <th>Loan_Status</th>\n",
       "      <th>Gender_Male</th>\n",
       "      <th>Married_Unknown</th>\n",
       "      <th>Married_Yes</th>\n",
       "      <th>Self_Employed_Unknown</th>\n",
       "      <th>Self_Employed_Yes</th>\n",
       "    </tr>\n",
       "  </thead>\n",
       "  <tbody>\n",
       "    <tr>\n",
       "      <th>0</th>\n",
       "      <td>1002</td>\n",
       "      <td>0</td>\n",
       "      <td>Graduate</td>\n",
       "      <td>5849.0</td>\n",
       "      <td>0.0</td>\n",
       "      <td>128.0</td>\n",
       "      <td>360.0</td>\n",
       "      <td>2</td>\n",
       "      <td>Urban</td>\n",
       "      <td>Y</td>\n",
       "      <td>1.0</td>\n",
       "      <td>0.0</td>\n",
       "      <td>0.0</td>\n",
       "      <td>0.0</td>\n",
       "      <td>0.0</td>\n",
       "    </tr>\n",
       "    <tr>\n",
       "      <th>1</th>\n",
       "      <td>1003</td>\n",
       "      <td>1</td>\n",
       "      <td>Graduate</td>\n",
       "      <td>4583.0</td>\n",
       "      <td>1508.0</td>\n",
       "      <td>128.0</td>\n",
       "      <td>360.0</td>\n",
       "      <td>2</td>\n",
       "      <td>Rural</td>\n",
       "      <td>N</td>\n",
       "      <td>1.0</td>\n",
       "      <td>0.0</td>\n",
       "      <td>1.0</td>\n",
       "      <td>0.0</td>\n",
       "      <td>0.0</td>\n",
       "    </tr>\n",
       "    <tr>\n",
       "      <th>2</th>\n",
       "      <td>1005</td>\n",
       "      <td>0</td>\n",
       "      <td>Graduate</td>\n",
       "      <td>3000.0</td>\n",
       "      <td>0.0</td>\n",
       "      <td>66.0</td>\n",
       "      <td>360.0</td>\n",
       "      <td>2</td>\n",
       "      <td>Urban</td>\n",
       "      <td>Y</td>\n",
       "      <td>1.0</td>\n",
       "      <td>0.0</td>\n",
       "      <td>1.0</td>\n",
       "      <td>0.0</td>\n",
       "      <td>1.0</td>\n",
       "    </tr>\n",
       "    <tr>\n",
       "      <th>3</th>\n",
       "      <td>1006</td>\n",
       "      <td>0</td>\n",
       "      <td>Not Graduate</td>\n",
       "      <td>2583.0</td>\n",
       "      <td>2358.0</td>\n",
       "      <td>120.0</td>\n",
       "      <td>360.0</td>\n",
       "      <td>2</td>\n",
       "      <td>Urban</td>\n",
       "      <td>Y</td>\n",
       "      <td>1.0</td>\n",
       "      <td>0.0</td>\n",
       "      <td>1.0</td>\n",
       "      <td>0.0</td>\n",
       "      <td>0.0</td>\n",
       "    </tr>\n",
       "    <tr>\n",
       "      <th>4</th>\n",
       "      <td>1008</td>\n",
       "      <td>0</td>\n",
       "      <td>Graduate</td>\n",
       "      <td>6000.0</td>\n",
       "      <td>0.0</td>\n",
       "      <td>141.0</td>\n",
       "      <td>360.0</td>\n",
       "      <td>2</td>\n",
       "      <td>Urban</td>\n",
       "      <td>Y</td>\n",
       "      <td>1.0</td>\n",
       "      <td>0.0</td>\n",
       "      <td>0.0</td>\n",
       "      <td>0.0</td>\n",
       "      <td>0.0</td>\n",
       "    </tr>\n",
       "  </tbody>\n",
       "</table>\n",
       "</div>"
      ],
      "text/plain": [
       "   Loan_ID Dependents     Education  ApplicantIncome  CoapplicantIncome  \\\n",
       "0     1002          0      Graduate           5849.0                0.0   \n",
       "1     1003          1      Graduate           4583.0             1508.0   \n",
       "2     1005          0      Graduate           3000.0                0.0   \n",
       "3     1006          0  Not Graduate           2583.0             2358.0   \n",
       "4     1008          0      Graduate           6000.0                0.0   \n",
       "\n",
       "   LoanAmount  Loan_Amount_Term  Credit_History Property_Area Loan_Status  \\\n",
       "0       128.0             360.0               2         Urban           Y   \n",
       "1       128.0             360.0               2         Rural           N   \n",
       "2        66.0             360.0               2         Urban           Y   \n",
       "3       120.0             360.0               2         Urban           Y   \n",
       "4       141.0             360.0               2         Urban           Y   \n",
       "\n",
       "   Gender_Male  Married_Unknown  Married_Yes  Self_Employed_Unknown  \\\n",
       "0          1.0              0.0          0.0                    0.0   \n",
       "1          1.0              0.0          1.0                    0.0   \n",
       "2          1.0              0.0          1.0                    0.0   \n",
       "3          1.0              0.0          1.0                    0.0   \n",
       "4          1.0              0.0          0.0                    0.0   \n",
       "\n",
       "   Self_Employed_Yes  \n",
       "0                0.0  \n",
       "1                0.0  \n",
       "2                1.0  \n",
       "3                0.0  \n",
       "4                0.0  "
      ]
     },
     "execution_count": 64,
     "metadata": {},
     "output_type": "execute_result"
    }
   ],
   "source": [
    "dataframe=dataframe.drop(columns=['index'])\n",
    "dataframe.head()"
   ]
  },
  {
   "cell_type": "code",
   "execution_count": 65,
   "metadata": {},
   "outputs": [
    {
     "data": {
      "text/plain": [
       "Loan_ID                     int32\n",
       "Dependents               category\n",
       "Education                category\n",
       "ApplicantIncome           float64\n",
       "CoapplicantIncome         float64\n",
       "LoanAmount                float64\n",
       "Loan_Amount_Term          float64\n",
       "Credit_History              int64\n",
       "Property_Area            category\n",
       "Loan_Status              category\n",
       "Gender_Male               float64\n",
       "Married_Unknown           float64\n",
       "Married_Yes               float64\n",
       "Self_Employed_Unknown     float64\n",
       "Self_Employed_Yes         float64\n",
       "dtype: object"
      ]
     },
     "execution_count": 65,
     "metadata": {},
     "output_type": "execute_result"
    }
   ],
   "source": [
    "dataframe.dtypes"
   ]
  },
  {
   "cell_type": "markdown",
   "metadata": {},
   "source": [
    "- Now dealing with ordinal categorical columns we are going to use ordinalEncoder\n",
    "- OrdinalEncoder is preferred when dealing with truly ordinal data,The order should reflect the natural hierarchy in your data and Keep track of the encoding order for later interpretation\n",
    "- Dependents,Education,Property Area"
   ]
  },
  {
   "cell_type": "code",
   "execution_count": 66,
   "metadata": {},
   "outputs": [],
   "source": [
    "# # # Define mappings for different ordinal variables\n",
    "# # education_mapping = {\n",
    "# #     'Not Graduate': 0,\n",
    "# #     'Graduate': 1\n",
    "# # }\n",
    "\n",
    "# # property_area_mapping = {\n",
    "# #     'Rural': 0,\n",
    "# #     'Semiurban': 1,\n",
    "# #     'Urban': 2\n",
    "# # }\n",
    "\n",
    "# # # Apply mappings\n",
    "# # dataframe['Education'] = dataframe['Education'].map(education_mapping)\n",
    "# # dataframe['Property_Area'] = dataframe['Property_Area'].map(property_area_mapping)\n",
    "# # #\n",
    "\n",
    "\n",
    "# from sklearn.preprocessing import LabelEncoder\n",
    "\n",
    "# class OrdinalLabelEncoder(LabelEncoder):\n",
    "#     def __init__(self, ordering=None):\n",
    "#         super().__init__()\n",
    "#         self.ordering = ordering\n",
    "\n",
    "#     def fit(self, y):\n",
    "#         if self.ordering is None:\n",
    "#             return super().fit(y)\n",
    "#         self.classes_ = np.array(self.ordering)\n",
    "#         return self\n",
    "\n",
    "# # Usage example\n",
    "# order = ['Not Graduate', 'Graduate']  # Specify your desired order\n",
    "# encoder = OrdinalLabelEncoder(ordering=order)\n",
    "# dataframe['Education'] = encoder.fit_transform(dataframe['Education'])\n"
   ]
  },
  {
   "cell_type": "code",
   "execution_count": 67,
   "metadata": {},
   "outputs": [
    {
     "name": "stdout",
     "output_type": "stream",
     "text": [
      "\n",
      "Mapping for Education:\n",
      "Not Graduate: 0\n",
      "Graduate: 1\n",
      "\n",
      "Mapping for Property_Area:\n",
      "Rural: 0\n",
      "Semiurban: 1\n",
      "Urban: 2\n",
      "\n",
      "Mapping for Dependents:\n",
      "Unknown: 0\n",
      "0: 1\n",
      "1: 2\n",
      "2: 3\n",
      "3+: 4\n"
     ]
    }
   ],
   "source": [
    "from sklearn.preprocessing import OrdinalEncoder\n",
    "\n",
    "# Define categories for each column in desired order\n",
    "category_orders = [\n",
    "    ['Not Graduate', 'Graduate'],  # Education categories\n",
    "    ['Rural', 'Semiurban', 'Urban'],  # Property_Area categories\n",
    "    ['Unknown', '0', '1', '2', '3+']  # Dependents categories\n",
    "]\n",
    "\n",
    "# Initialize encoder\n",
    "ordinal_encoder = OrdinalEncoder(categories=category_orders)\n",
    "\n",
    "# Fit and transform\n",
    "columns_to_encode = ['Education', 'Property_Area', 'Dependents']\n",
    "dataframe[columns_to_encode] = ordinal_encoder.fit_transform(dataframe[columns_to_encode])\n",
    "\n",
    "# If you want to see the encoding mapping\n",
    "for i, column in enumerate(columns_to_encode):\n",
    "    print(f\"\\nMapping for {column}:\")\n",
    "    for j, category in enumerate(category_orders[i]):\n",
    "        print(f\"{category}: {j}\")\n"
   ]
  },
  {
   "cell_type": "code",
   "execution_count": 68,
   "metadata": {},
   "outputs": [
    {
     "data": {
      "text/html": [
       "<div>\n",
       "<style scoped>\n",
       "    .dataframe tbody tr th:only-of-type {\n",
       "        vertical-align: middle;\n",
       "    }\n",
       "\n",
       "    .dataframe tbody tr th {\n",
       "        vertical-align: top;\n",
       "    }\n",
       "\n",
       "    .dataframe thead th {\n",
       "        text-align: right;\n",
       "    }\n",
       "</style>\n",
       "<table border=\"1\" class=\"dataframe\">\n",
       "  <thead>\n",
       "    <tr style=\"text-align: right;\">\n",
       "      <th></th>\n",
       "      <th>Loan_ID</th>\n",
       "      <th>Dependents</th>\n",
       "      <th>Education</th>\n",
       "      <th>ApplicantIncome</th>\n",
       "      <th>CoapplicantIncome</th>\n",
       "      <th>LoanAmount</th>\n",
       "      <th>Loan_Amount_Term</th>\n",
       "      <th>Credit_History</th>\n",
       "      <th>Property_Area</th>\n",
       "      <th>Loan_Status</th>\n",
       "      <th>Gender_Male</th>\n",
       "      <th>Married_Unknown</th>\n",
       "      <th>Married_Yes</th>\n",
       "      <th>Self_Employed_Unknown</th>\n",
       "      <th>Self_Employed_Yes</th>\n",
       "    </tr>\n",
       "  </thead>\n",
       "  <tbody>\n",
       "    <tr>\n",
       "      <th>0</th>\n",
       "      <td>1002</td>\n",
       "      <td>1.0</td>\n",
       "      <td>1.0</td>\n",
       "      <td>5849.0</td>\n",
       "      <td>0.0</td>\n",
       "      <td>128.0</td>\n",
       "      <td>360.0</td>\n",
       "      <td>2</td>\n",
       "      <td>2.0</td>\n",
       "      <td>Y</td>\n",
       "      <td>1.0</td>\n",
       "      <td>0.0</td>\n",
       "      <td>0.0</td>\n",
       "      <td>0.0</td>\n",
       "      <td>0.0</td>\n",
       "    </tr>\n",
       "    <tr>\n",
       "      <th>1</th>\n",
       "      <td>1003</td>\n",
       "      <td>2.0</td>\n",
       "      <td>1.0</td>\n",
       "      <td>4583.0</td>\n",
       "      <td>1508.0</td>\n",
       "      <td>128.0</td>\n",
       "      <td>360.0</td>\n",
       "      <td>2</td>\n",
       "      <td>0.0</td>\n",
       "      <td>N</td>\n",
       "      <td>1.0</td>\n",
       "      <td>0.0</td>\n",
       "      <td>1.0</td>\n",
       "      <td>0.0</td>\n",
       "      <td>0.0</td>\n",
       "    </tr>\n",
       "    <tr>\n",
       "      <th>2</th>\n",
       "      <td>1005</td>\n",
       "      <td>1.0</td>\n",
       "      <td>1.0</td>\n",
       "      <td>3000.0</td>\n",
       "      <td>0.0</td>\n",
       "      <td>66.0</td>\n",
       "      <td>360.0</td>\n",
       "      <td>2</td>\n",
       "      <td>2.0</td>\n",
       "      <td>Y</td>\n",
       "      <td>1.0</td>\n",
       "      <td>0.0</td>\n",
       "      <td>1.0</td>\n",
       "      <td>0.0</td>\n",
       "      <td>1.0</td>\n",
       "    </tr>\n",
       "    <tr>\n",
       "      <th>3</th>\n",
       "      <td>1006</td>\n",
       "      <td>1.0</td>\n",
       "      <td>0.0</td>\n",
       "      <td>2583.0</td>\n",
       "      <td>2358.0</td>\n",
       "      <td>120.0</td>\n",
       "      <td>360.0</td>\n",
       "      <td>2</td>\n",
       "      <td>2.0</td>\n",
       "      <td>Y</td>\n",
       "      <td>1.0</td>\n",
       "      <td>0.0</td>\n",
       "      <td>1.0</td>\n",
       "      <td>0.0</td>\n",
       "      <td>0.0</td>\n",
       "    </tr>\n",
       "    <tr>\n",
       "      <th>4</th>\n",
       "      <td>1008</td>\n",
       "      <td>1.0</td>\n",
       "      <td>1.0</td>\n",
       "      <td>6000.0</td>\n",
       "      <td>0.0</td>\n",
       "      <td>141.0</td>\n",
       "      <td>360.0</td>\n",
       "      <td>2</td>\n",
       "      <td>2.0</td>\n",
       "      <td>Y</td>\n",
       "      <td>1.0</td>\n",
       "      <td>0.0</td>\n",
       "      <td>0.0</td>\n",
       "      <td>0.0</td>\n",
       "      <td>0.0</td>\n",
       "    </tr>\n",
       "    <tr>\n",
       "      <th>...</th>\n",
       "      <td>...</td>\n",
       "      <td>...</td>\n",
       "      <td>...</td>\n",
       "      <td>...</td>\n",
       "      <td>...</td>\n",
       "      <td>...</td>\n",
       "      <td>...</td>\n",
       "      <td>...</td>\n",
       "      <td>...</td>\n",
       "      <td>...</td>\n",
       "      <td>...</td>\n",
       "      <td>...</td>\n",
       "      <td>...</td>\n",
       "      <td>...</td>\n",
       "      <td>...</td>\n",
       "    </tr>\n",
       "    <tr>\n",
       "      <th>607</th>\n",
       "      <td>2978</td>\n",
       "      <td>1.0</td>\n",
       "      <td>1.0</td>\n",
       "      <td>2900.0</td>\n",
       "      <td>0.0</td>\n",
       "      <td>71.0</td>\n",
       "      <td>360.0</td>\n",
       "      <td>2</td>\n",
       "      <td>0.0</td>\n",
       "      <td>Y</td>\n",
       "      <td>0.0</td>\n",
       "      <td>0.0</td>\n",
       "      <td>0.0</td>\n",
       "      <td>0.0</td>\n",
       "      <td>0.0</td>\n",
       "    </tr>\n",
       "    <tr>\n",
       "      <th>608</th>\n",
       "      <td>2979</td>\n",
       "      <td>4.0</td>\n",
       "      <td>1.0</td>\n",
       "      <td>4106.0</td>\n",
       "      <td>0.0</td>\n",
       "      <td>40.0</td>\n",
       "      <td>180.0</td>\n",
       "      <td>2</td>\n",
       "      <td>0.0</td>\n",
       "      <td>Y</td>\n",
       "      <td>1.0</td>\n",
       "      <td>0.0</td>\n",
       "      <td>1.0</td>\n",
       "      <td>0.0</td>\n",
       "      <td>0.0</td>\n",
       "    </tr>\n",
       "    <tr>\n",
       "      <th>609</th>\n",
       "      <td>2983</td>\n",
       "      <td>2.0</td>\n",
       "      <td>1.0</td>\n",
       "      <td>8072.0</td>\n",
       "      <td>240.0</td>\n",
       "      <td>253.0</td>\n",
       "      <td>360.0</td>\n",
       "      <td>2</td>\n",
       "      <td>2.0</td>\n",
       "      <td>Y</td>\n",
       "      <td>1.0</td>\n",
       "      <td>0.0</td>\n",
       "      <td>1.0</td>\n",
       "      <td>0.0</td>\n",
       "      <td>0.0</td>\n",
       "    </tr>\n",
       "    <tr>\n",
       "      <th>610</th>\n",
       "      <td>2984</td>\n",
       "      <td>3.0</td>\n",
       "      <td>1.0</td>\n",
       "      <td>7583.0</td>\n",
       "      <td>0.0</td>\n",
       "      <td>187.0</td>\n",
       "      <td>360.0</td>\n",
       "      <td>2</td>\n",
       "      <td>2.0</td>\n",
       "      <td>Y</td>\n",
       "      <td>1.0</td>\n",
       "      <td>0.0</td>\n",
       "      <td>1.0</td>\n",
       "      <td>0.0</td>\n",
       "      <td>0.0</td>\n",
       "    </tr>\n",
       "    <tr>\n",
       "      <th>611</th>\n",
       "      <td>2990</td>\n",
       "      <td>1.0</td>\n",
       "      <td>1.0</td>\n",
       "      <td>4583.0</td>\n",
       "      <td>0.0</td>\n",
       "      <td>133.0</td>\n",
       "      <td>360.0</td>\n",
       "      <td>1</td>\n",
       "      <td>1.0</td>\n",
       "      <td>N</td>\n",
       "      <td>0.0</td>\n",
       "      <td>0.0</td>\n",
       "      <td>0.0</td>\n",
       "      <td>0.0</td>\n",
       "      <td>1.0</td>\n",
       "    </tr>\n",
       "  </tbody>\n",
       "</table>\n",
       "<p>612 rows × 15 columns</p>\n",
       "</div>"
      ],
      "text/plain": [
       "     Loan_ID  Dependents  Education  ApplicantIncome  CoapplicantIncome  \\\n",
       "0       1002         1.0        1.0           5849.0                0.0   \n",
       "1       1003         2.0        1.0           4583.0             1508.0   \n",
       "2       1005         1.0        1.0           3000.0                0.0   \n",
       "3       1006         1.0        0.0           2583.0             2358.0   \n",
       "4       1008         1.0        1.0           6000.0                0.0   \n",
       "..       ...         ...        ...              ...                ...   \n",
       "607     2978         1.0        1.0           2900.0                0.0   \n",
       "608     2979         4.0        1.0           4106.0                0.0   \n",
       "609     2983         2.0        1.0           8072.0              240.0   \n",
       "610     2984         3.0        1.0           7583.0                0.0   \n",
       "611     2990         1.0        1.0           4583.0                0.0   \n",
       "\n",
       "     LoanAmount  Loan_Amount_Term  Credit_History  Property_Area Loan_Status  \\\n",
       "0         128.0             360.0               2            2.0           Y   \n",
       "1         128.0             360.0               2            0.0           N   \n",
       "2          66.0             360.0               2            2.0           Y   \n",
       "3         120.0             360.0               2            2.0           Y   \n",
       "4         141.0             360.0               2            2.0           Y   \n",
       "..          ...               ...             ...            ...         ...   \n",
       "607        71.0             360.0               2            0.0           Y   \n",
       "608        40.0             180.0               2            0.0           Y   \n",
       "609       253.0             360.0               2            2.0           Y   \n",
       "610       187.0             360.0               2            2.0           Y   \n",
       "611       133.0             360.0               1            1.0           N   \n",
       "\n",
       "     Gender_Male  Married_Unknown  Married_Yes  Self_Employed_Unknown  \\\n",
       "0            1.0              0.0          0.0                    0.0   \n",
       "1            1.0              0.0          1.0                    0.0   \n",
       "2            1.0              0.0          1.0                    0.0   \n",
       "3            1.0              0.0          1.0                    0.0   \n",
       "4            1.0              0.0          0.0                    0.0   \n",
       "..           ...              ...          ...                    ...   \n",
       "607          0.0              0.0          0.0                    0.0   \n",
       "608          1.0              0.0          1.0                    0.0   \n",
       "609          1.0              0.0          1.0                    0.0   \n",
       "610          1.0              0.0          1.0                    0.0   \n",
       "611          0.0              0.0          0.0                    0.0   \n",
       "\n",
       "     Self_Employed_Yes  \n",
       "0                  0.0  \n",
       "1                  0.0  \n",
       "2                  1.0  \n",
       "3                  0.0  \n",
       "4                  0.0  \n",
       "..                 ...  \n",
       "607                0.0  \n",
       "608                0.0  \n",
       "609                0.0  \n",
       "610                0.0  \n",
       "611                1.0  \n",
       "\n",
       "[612 rows x 15 columns]"
      ]
     },
     "execution_count": 68,
     "metadata": {},
     "output_type": "execute_result"
    }
   ],
   "source": [
    "dataframe"
   ]
  },
  {
   "cell_type": "markdown",
   "metadata": {},
   "source": [
    "- Now all columns are in numeric dtypes apart from our target column whch is binary let's deal with that"
   ]
  },
  {
   "cell_type": "code",
   "execution_count": 69,
   "metadata": {},
   "outputs": [
    {
     "data": {
      "text/plain": [
       "Loan_Status\n",
       "Y    422\n",
       "N    190\n",
       "Name: count, dtype: int64"
      ]
     },
     "execution_count": 69,
     "metadata": {},
     "output_type": "execute_result"
    }
   ],
   "source": [
    "dataframe['Loan_Status'].value_counts(dropna=False)"
   ]
  },
  {
   "cell_type": "code",
   "execution_count": 70,
   "metadata": {},
   "outputs": [
    {
     "data": {
      "text/plain": [
       "Loan_Status\n",
       "1    422\n",
       "0    190\n",
       "Name: count, dtype: int64"
      ]
     },
     "execution_count": 70,
     "metadata": {},
     "output_type": "execute_result"
    }
   ],
   "source": [
    "mappings={\n",
    "    \"Y\":1,\n",
    "    \"N\":0\n",
    "}\n",
    "dataframe['Loan_Status']=dataframe['Loan_Status'].map(mappings)\n",
    "dataframe['Loan_Status'].value_counts()"
   ]
  },
  {
   "cell_type": "code",
   "execution_count": 71,
   "metadata": {},
   "outputs": [
    {
     "data": {
      "text/plain": [
       "Loan_ID                     int32\n",
       "Dependents                float64\n",
       "Education                 float64\n",
       "ApplicantIncome           float64\n",
       "CoapplicantIncome         float64\n",
       "LoanAmount                float64\n",
       "Loan_Amount_Term          float64\n",
       "Credit_History              int64\n",
       "Property_Area             float64\n",
       "Loan_Status              category\n",
       "Gender_Male               float64\n",
       "Married_Unknown           float64\n",
       "Married_Yes               float64\n",
       "Self_Employed_Unknown     float64\n",
       "Self_Employed_Yes         float64\n",
       "dtype: object"
      ]
     },
     "execution_count": 71,
     "metadata": {},
     "output_type": "execute_result"
    }
   ],
   "source": [
    "dataframe.dtypes\n",
    "#So far all columns are in numeric format as erthe requirementsof model building"
   ]
  },
  {
   "cell_type": "markdown",
   "metadata": {},
   "source": [
    "**Feature Scaling**\n",
    "- This involves scaling the features to ensure that they are of the same scale\n",
    "_ Note: When i state features the target column is excluded thus no scaling occurs on the target column\n",
    "- From the look of thing on our data we  for sure need to scale that data\n",
    "- We are going to use the standard scaler"
   ]
  },
  {
   "cell_type": "code",
   "execution_count": 72,
   "metadata": {},
   "outputs": [
    {
     "data": {
      "text/html": [
       "<div>\n",
       "<style scoped>\n",
       "    .dataframe tbody tr th:only-of-type {\n",
       "        vertical-align: middle;\n",
       "    }\n",
       "\n",
       "    .dataframe tbody tr th {\n",
       "        vertical-align: top;\n",
       "    }\n",
       "\n",
       "    .dataframe thead th {\n",
       "        text-align: right;\n",
       "    }\n",
       "</style>\n",
       "<table border=\"1\" class=\"dataframe\">\n",
       "  <thead>\n",
       "    <tr style=\"text-align: right;\">\n",
       "      <th></th>\n",
       "      <th>Dependents</th>\n",
       "      <th>Education</th>\n",
       "      <th>ApplicantIncome</th>\n",
       "      <th>CoapplicantIncome</th>\n",
       "      <th>LoanAmount</th>\n",
       "      <th>Loan_Amount_Term</th>\n",
       "      <th>Credit_History</th>\n",
       "      <th>Property_Area</th>\n",
       "      <th>Loan_Status</th>\n",
       "      <th>Gender_Male</th>\n",
       "      <th>Married_Unknown</th>\n",
       "      <th>Married_Yes</th>\n",
       "      <th>Self_Employed_Unknown</th>\n",
       "      <th>Self_Employed_Yes</th>\n",
       "    </tr>\n",
       "    <tr>\n",
       "      <th>Loan_ID</th>\n",
       "      <th></th>\n",
       "      <th></th>\n",
       "      <th></th>\n",
       "      <th></th>\n",
       "      <th></th>\n",
       "      <th></th>\n",
       "      <th></th>\n",
       "      <th></th>\n",
       "      <th></th>\n",
       "      <th></th>\n",
       "      <th></th>\n",
       "      <th></th>\n",
       "      <th></th>\n",
       "      <th></th>\n",
       "    </tr>\n",
       "  </thead>\n",
       "  <tbody>\n",
       "    <tr>\n",
       "      <th>-1.760345</th>\n",
       "      <td>-0.692795</td>\n",
       "      <td>0.529466</td>\n",
       "      <td>0.070644</td>\n",
       "      <td>-0.729422</td>\n",
       "      <td>-0.209099</td>\n",
       "      <td>0.270540</td>\n",
       "      <td>0.500761</td>\n",
       "      <td>1.228303</td>\n",
       "      <td>1</td>\n",
       "      <td>0.475871</td>\n",
       "      <td>-0.070186</td>\n",
       "      <td>-1.363750</td>\n",
       "      <td>-0.23099</td>\n",
       "      <td>-0.393341</td>\n",
       "    </tr>\n",
       "    <tr>\n",
       "      <th>-1.758575</th>\n",
       "      <td>0.273015</td>\n",
       "      <td>0.529466</td>\n",
       "      <td>-0.136592</td>\n",
       "      <td>0.002343</td>\n",
       "      <td>-0.209099</td>\n",
       "      <td>0.270540</td>\n",
       "      <td>0.500761</td>\n",
       "      <td>-1.315593</td>\n",
       "      <td>0</td>\n",
       "      <td>0.475871</td>\n",
       "      <td>-0.070186</td>\n",
       "      <td>0.733272</td>\n",
       "      <td>-0.23099</td>\n",
       "      <td>-0.393341</td>\n",
       "    </tr>\n",
       "    <tr>\n",
       "      <th>-1.755036</th>\n",
       "      <td>-0.692795</td>\n",
       "      <td>0.529466</td>\n",
       "      <td>-0.395718</td>\n",
       "      <td>-0.729422</td>\n",
       "      <td>-0.949491</td>\n",
       "      <td>0.270540</td>\n",
       "      <td>0.500761</td>\n",
       "      <td>1.228303</td>\n",
       "      <td>1</td>\n",
       "      <td>0.475871</td>\n",
       "      <td>-0.070186</td>\n",
       "      <td>0.733272</td>\n",
       "      <td>-0.23099</td>\n",
       "      <td>2.542325</td>\n",
       "    </tr>\n",
       "    <tr>\n",
       "      <th>-1.753267</th>\n",
       "      <td>-0.692795</td>\n",
       "      <td>-1.888694</td>\n",
       "      <td>-0.463978</td>\n",
       "      <td>0.414810</td>\n",
       "      <td>-0.304633</td>\n",
       "      <td>0.270540</td>\n",
       "      <td>0.500761</td>\n",
       "      <td>1.228303</td>\n",
       "      <td>1</td>\n",
       "      <td>0.475871</td>\n",
       "      <td>-0.070186</td>\n",
       "      <td>0.733272</td>\n",
       "      <td>-0.23099</td>\n",
       "      <td>-0.393341</td>\n",
       "    </tr>\n",
       "    <tr>\n",
       "      <th>-1.749727</th>\n",
       "      <td>-0.692795</td>\n",
       "      <td>0.529466</td>\n",
       "      <td>0.095361</td>\n",
       "      <td>-0.729422</td>\n",
       "      <td>-0.053855</td>\n",
       "      <td>0.270540</td>\n",
       "      <td>0.500761</td>\n",
       "      <td>1.228303</td>\n",
       "      <td>1</td>\n",
       "      <td>0.475871</td>\n",
       "      <td>-0.070186</td>\n",
       "      <td>-1.363750</td>\n",
       "      <td>-0.23099</td>\n",
       "      <td>-0.393341</td>\n",
       "    </tr>\n",
       "    <tr>\n",
       "      <th>...</th>\n",
       "      <td>...</td>\n",
       "      <td>...</td>\n",
       "      <td>...</td>\n",
       "      <td>...</td>\n",
       "      <td>...</td>\n",
       "      <td>...</td>\n",
       "      <td>...</td>\n",
       "      <td>...</td>\n",
       "      <td>...</td>\n",
       "      <td>...</td>\n",
       "      <td>...</td>\n",
       "      <td>...</td>\n",
       "      <td>...</td>\n",
       "      <td>...</td>\n",
       "    </tr>\n",
       "    <tr>\n",
       "      <th>1.736369</th>\n",
       "      <td>-0.692795</td>\n",
       "      <td>0.529466</td>\n",
       "      <td>-0.412088</td>\n",
       "      <td>-0.729422</td>\n",
       "      <td>-0.889782</td>\n",
       "      <td>0.270540</td>\n",
       "      <td>0.500761</td>\n",
       "      <td>-1.315593</td>\n",
       "      <td>1</td>\n",
       "      <td>-2.101411</td>\n",
       "      <td>-0.070186</td>\n",
       "      <td>-1.363750</td>\n",
       "      <td>-0.23099</td>\n",
       "      <td>-0.393341</td>\n",
       "    </tr>\n",
       "    <tr>\n",
       "      <th>1.738138</th>\n",
       "      <td>2.204636</td>\n",
       "      <td>0.529466</td>\n",
       "      <td>-0.214674</td>\n",
       "      <td>-0.729422</td>\n",
       "      <td>-1.259978</td>\n",
       "      <td>-2.535742</td>\n",
       "      <td>0.500761</td>\n",
       "      <td>-1.315593</td>\n",
       "      <td>1</td>\n",
       "      <td>0.475871</td>\n",
       "      <td>-0.070186</td>\n",
       "      <td>0.733272</td>\n",
       "      <td>-0.23099</td>\n",
       "      <td>-0.393341</td>\n",
       "    </tr>\n",
       "    <tr>\n",
       "      <th>1.745217</th>\n",
       "      <td>0.273015</td>\n",
       "      <td>0.529466</td>\n",
       "      <td>0.434534</td>\n",
       "      <td>-0.612961</td>\n",
       "      <td>1.283628</td>\n",
       "      <td>0.270540</td>\n",
       "      <td>0.500761</td>\n",
       "      <td>1.228303</td>\n",
       "      <td>1</td>\n",
       "      <td>0.475871</td>\n",
       "      <td>-0.070186</td>\n",
       "      <td>0.733272</td>\n",
       "      <td>-0.23099</td>\n",
       "      <td>-0.393341</td>\n",
       "    </tr>\n",
       "    <tr>\n",
       "      <th>1.746986</th>\n",
       "      <td>1.238825</td>\n",
       "      <td>0.529466</td>\n",
       "      <td>0.354488</td>\n",
       "      <td>-0.729422</td>\n",
       "      <td>0.495468</td>\n",
       "      <td>0.270540</td>\n",
       "      <td>0.500761</td>\n",
       "      <td>1.228303</td>\n",
       "      <td>1</td>\n",
       "      <td>0.475871</td>\n",
       "      <td>-0.070186</td>\n",
       "      <td>0.733272</td>\n",
       "      <td>-0.23099</td>\n",
       "      <td>-0.393341</td>\n",
       "    </tr>\n",
       "    <tr>\n",
       "      <th>1.757604</th>\n",
       "      <td>-0.692795</td>\n",
       "      <td>0.529466</td>\n",
       "      <td>-0.136592</td>\n",
       "      <td>-0.729422</td>\n",
       "      <td>-0.149390</td>\n",
       "      <td>0.270540</td>\n",
       "      <td>-1.138094</td>\n",
       "      <td>-0.043645</td>\n",
       "      <td>0</td>\n",
       "      <td>-2.101411</td>\n",
       "      <td>-0.070186</td>\n",
       "      <td>-1.363750</td>\n",
       "      <td>-0.23099</td>\n",
       "      <td>2.542325</td>\n",
       "    </tr>\n",
       "  </tbody>\n",
       "</table>\n",
       "<p>612 rows × 14 columns</p>\n",
       "</div>"
      ],
      "text/plain": [
       "           Dependents  Education  ApplicantIncome  CoapplicantIncome  \\\n",
       "Loan_ID                                                                \n",
       "-1.760345   -0.692795   0.529466         0.070644          -0.729422   \n",
       "-1.758575    0.273015   0.529466        -0.136592           0.002343   \n",
       "-1.755036   -0.692795   0.529466        -0.395718          -0.729422   \n",
       "-1.753267   -0.692795  -1.888694        -0.463978           0.414810   \n",
       "-1.749727   -0.692795   0.529466         0.095361          -0.729422   \n",
       "...               ...        ...              ...                ...   \n",
       " 1.736369   -0.692795   0.529466        -0.412088          -0.729422   \n",
       " 1.738138    2.204636   0.529466        -0.214674          -0.729422   \n",
       " 1.745217    0.273015   0.529466         0.434534          -0.612961   \n",
       " 1.746986    1.238825   0.529466         0.354488          -0.729422   \n",
       " 1.757604   -0.692795   0.529466        -0.136592          -0.729422   \n",
       "\n",
       "           LoanAmount  Loan_Amount_Term  Credit_History  Property_Area  \\\n",
       "Loan_ID                                                                  \n",
       "-1.760345   -0.209099          0.270540        0.500761       1.228303   \n",
       "-1.758575   -0.209099          0.270540        0.500761      -1.315593   \n",
       "-1.755036   -0.949491          0.270540        0.500761       1.228303   \n",
       "-1.753267   -0.304633          0.270540        0.500761       1.228303   \n",
       "-1.749727   -0.053855          0.270540        0.500761       1.228303   \n",
       "...               ...               ...             ...            ...   \n",
       " 1.736369   -0.889782          0.270540        0.500761      -1.315593   \n",
       " 1.738138   -1.259978         -2.535742        0.500761      -1.315593   \n",
       " 1.745217    1.283628          0.270540        0.500761       1.228303   \n",
       " 1.746986    0.495468          0.270540        0.500761       1.228303   \n",
       " 1.757604   -0.149390          0.270540       -1.138094      -0.043645   \n",
       "\n",
       "          Loan_Status  Gender_Male  Married_Unknown  Married_Yes  \\\n",
       "Loan_ID                                                            \n",
       "-1.760345           1     0.475871        -0.070186    -1.363750   \n",
       "-1.758575           0     0.475871        -0.070186     0.733272   \n",
       "-1.755036           1     0.475871        -0.070186     0.733272   \n",
       "-1.753267           1     0.475871        -0.070186     0.733272   \n",
       "-1.749727           1     0.475871        -0.070186    -1.363750   \n",
       "...               ...          ...              ...          ...   \n",
       " 1.736369           1    -2.101411        -0.070186    -1.363750   \n",
       " 1.738138           1     0.475871        -0.070186     0.733272   \n",
       " 1.745217           1     0.475871        -0.070186     0.733272   \n",
       " 1.746986           1     0.475871        -0.070186     0.733272   \n",
       " 1.757604           0    -2.101411        -0.070186    -1.363750   \n",
       "\n",
       "           Self_Employed_Unknown  Self_Employed_Yes  \n",
       "Loan_ID                                              \n",
       "-1.760345               -0.23099          -0.393341  \n",
       "-1.758575               -0.23099          -0.393341  \n",
       "-1.755036               -0.23099           2.542325  \n",
       "-1.753267               -0.23099          -0.393341  \n",
       "-1.749727               -0.23099          -0.393341  \n",
       "...                          ...                ...  \n",
       " 1.736369               -0.23099          -0.393341  \n",
       " 1.738138               -0.23099          -0.393341  \n",
       " 1.745217               -0.23099          -0.393341  \n",
       " 1.746986               -0.23099          -0.393341  \n",
       " 1.757604               -0.23099           2.542325  \n",
       "\n",
       "[612 rows x 14 columns]"
      ]
     },
     "execution_count": 72,
     "metadata": {},
     "output_type": "execute_result"
    }
   ],
   "source": [
    "from sklearn.preprocessing import StandardScaler\n",
    "ss=StandardScaler()\n",
    "features=['Loan_ID','Dependents','Education','ApplicantIncome','CoapplicantIncome','LoanAmount','Loan_Amount_Term','Credit_History','Property_Area','Gender_Male','Married_Unknown','Married_Yes','Self_Employed_Unknown','Self_Employed_Yes']\n",
    "dataframe[features]=ss.fit_transform(dataframe[features])\n",
    "dataframe=dataframe.set_index('Loan_ID')\n",
    "dataframe"
   ]
  },
  {
   "cell_type": "markdown",
   "metadata": {},
   "source": [
    "**Data Splitting**"
   ]
  },
  {
   "cell_type": "code",
   "execution_count": 73,
   "metadata": {},
   "outputs": [
    {
     "data": {
      "text/html": [
       "<div>\n",
       "<style scoped>\n",
       "    .dataframe tbody tr th:only-of-type {\n",
       "        vertical-align: middle;\n",
       "    }\n",
       "\n",
       "    .dataframe tbody tr th {\n",
       "        vertical-align: top;\n",
       "    }\n",
       "\n",
       "    .dataframe thead th {\n",
       "        text-align: right;\n",
       "    }\n",
       "</style>\n",
       "<table border=\"1\" class=\"dataframe\">\n",
       "  <thead>\n",
       "    <tr style=\"text-align: right;\">\n",
       "      <th></th>\n",
       "      <th>Dependents</th>\n",
       "      <th>Education</th>\n",
       "      <th>ApplicantIncome</th>\n",
       "      <th>CoapplicantIncome</th>\n",
       "      <th>LoanAmount</th>\n",
       "      <th>Loan_Amount_Term</th>\n",
       "      <th>Credit_History</th>\n",
       "      <th>Property_Area</th>\n",
       "      <th>Gender_Male</th>\n",
       "      <th>Married_Unknown</th>\n",
       "      <th>Married_Yes</th>\n",
       "      <th>Self_Employed_Unknown</th>\n",
       "      <th>Self_Employed_Yes</th>\n",
       "    </tr>\n",
       "    <tr>\n",
       "      <th>Loan_ID</th>\n",
       "      <th></th>\n",
       "      <th></th>\n",
       "      <th></th>\n",
       "      <th></th>\n",
       "      <th></th>\n",
       "      <th></th>\n",
       "      <th></th>\n",
       "      <th></th>\n",
       "      <th></th>\n",
       "      <th></th>\n",
       "      <th></th>\n",
       "      <th></th>\n",
       "      <th></th>\n",
       "    </tr>\n",
       "  </thead>\n",
       "  <tbody>\n",
       "    <tr>\n",
       "      <th>-1.270168</th>\n",
       "      <td>-0.692795</td>\n",
       "      <td>0.529466</td>\n",
       "      <td>-0.499500</td>\n",
       "      <td>0.498759</td>\n",
       "      <td>-0.113564</td>\n",
       "      <td>0.270540</td>\n",
       "      <td>0.500761</td>\n",
       "      <td>-0.043645</td>\n",
       "      <td>0.475871</td>\n",
       "      <td>-0.070186</td>\n",
       "      <td>-1.363750</td>\n",
       "      <td>-0.230990</td>\n",
       "      <td>-0.393341</td>\n",
       "    </tr>\n",
       "    <tr>\n",
       "      <th>0.260529</th>\n",
       "      <td>-1.658606</td>\n",
       "      <td>0.529466</td>\n",
       "      <td>-0.262636</td>\n",
       "      <td>-0.729422</td>\n",
       "      <td>-0.352401</td>\n",
       "      <td>-2.535742</td>\n",
       "      <td>0.500761</td>\n",
       "      <td>1.228303</td>\n",
       "      <td>-2.101411</td>\n",
       "      <td>-0.070186</td>\n",
       "      <td>-1.363750</td>\n",
       "      <td>-0.230990</td>\n",
       "      <td>-0.393341</td>\n",
       "    </tr>\n",
       "    <tr>\n",
       "      <th>0.688770</th>\n",
       "      <td>-0.692795</td>\n",
       "      <td>0.529466</td>\n",
       "      <td>1.220916</td>\n",
       "      <td>-0.729422</td>\n",
       "      <td>3.098784</td>\n",
       "      <td>0.270540</td>\n",
       "      <td>0.500761</td>\n",
       "      <td>-0.043645</td>\n",
       "      <td>0.475871</td>\n",
       "      <td>-0.070186</td>\n",
       "      <td>-1.363750</td>\n",
       "      <td>4.329196</td>\n",
       "      <td>-0.393341</td>\n",
       "    </tr>\n",
       "    <tr>\n",
       "      <th>-1.201154</th>\n",
       "      <td>1.238825</td>\n",
       "      <td>0.529466</td>\n",
       "      <td>0.136285</td>\n",
       "      <td>2.014212</td>\n",
       "      <td>0.507410</td>\n",
       "      <td>-2.535742</td>\n",
       "      <td>0.500761</td>\n",
       "      <td>-0.043645</td>\n",
       "      <td>0.475871</td>\n",
       "      <td>-0.070186</td>\n",
       "      <td>0.733272</td>\n",
       "      <td>-0.230990</td>\n",
       "      <td>-0.393341</td>\n",
       "    </tr>\n",
       "    <tr>\n",
       "      <th>1.493935</th>\n",
       "      <td>-0.692795</td>\n",
       "      <td>0.529466</td>\n",
       "      <td>-0.368545</td>\n",
       "      <td>0.272145</td>\n",
       "      <td>-0.495702</td>\n",
       "      <td>0.270540</td>\n",
       "      <td>-1.138094</td>\n",
       "      <td>1.228303</td>\n",
       "      <td>0.475871</td>\n",
       "      <td>-0.070186</td>\n",
       "      <td>0.733272</td>\n",
       "      <td>-0.230990</td>\n",
       "      <td>-0.393341</td>\n",
       "    </tr>\n",
       "    <tr>\n",
       "      <th>...</th>\n",
       "      <td>...</td>\n",
       "      <td>...</td>\n",
       "      <td>...</td>\n",
       "      <td>...</td>\n",
       "      <td>...</td>\n",
       "      <td>...</td>\n",
       "      <td>...</td>\n",
       "      <td>...</td>\n",
       "      <td>...</td>\n",
       "      <td>...</td>\n",
       "      <td>...</td>\n",
       "      <td>...</td>\n",
       "      <td>...</td>\n",
       "    </tr>\n",
       "    <tr>\n",
       "      <th>0.968366</th>\n",
       "      <td>0.273015</td>\n",
       "      <td>-1.888694</td>\n",
       "      <td>-0.566287</td>\n",
       "      <td>0.452660</td>\n",
       "      <td>-0.173273</td>\n",
       "      <td>0.270540</td>\n",
       "      <td>0.500761</td>\n",
       "      <td>-1.315593</td>\n",
       "      <td>0.475871</td>\n",
       "      <td>-0.070186</td>\n",
       "      <td>0.733272</td>\n",
       "      <td>-0.230990</td>\n",
       "      <td>-0.393341</td>\n",
       "    </tr>\n",
       "    <tr>\n",
       "      <th>0.435719</th>\n",
       "      <td>-0.692795</td>\n",
       "      <td>-1.888694</td>\n",
       "      <td>-0.394081</td>\n",
       "      <td>0.792339</td>\n",
       "      <td>-0.209099</td>\n",
       "      <td>0.270540</td>\n",
       "      <td>-1.138094</td>\n",
       "      <td>1.228303</td>\n",
       "      <td>0.475871</td>\n",
       "      <td>-0.070186</td>\n",
       "      <td>0.733272</td>\n",
       "      <td>-0.230990</td>\n",
       "      <td>-0.393341</td>\n",
       "    </tr>\n",
       "    <tr>\n",
       "      <th>0.237524</th>\n",
       "      <td>1.238825</td>\n",
       "      <td>-1.888694</td>\n",
       "      <td>-0.382132</td>\n",
       "      <td>0.322612</td>\n",
       "      <td>-0.232982</td>\n",
       "      <td>0.270540</td>\n",
       "      <td>0.500761</td>\n",
       "      <td>1.228303</td>\n",
       "      <td>0.475871</td>\n",
       "      <td>-0.070186</td>\n",
       "      <td>0.733272</td>\n",
       "      <td>-0.230990</td>\n",
       "      <td>-0.393341</td>\n",
       "    </tr>\n",
       "    <tr>\n",
       "      <th>0.924126</th>\n",
       "      <td>2.204636</td>\n",
       "      <td>0.529466</td>\n",
       "      <td>-0.118913</td>\n",
       "      <td>-0.729422</td>\n",
       "      <td>-0.543470</td>\n",
       "      <td>0.270540</td>\n",
       "      <td>0.500761</td>\n",
       "      <td>-0.043645</td>\n",
       "      <td>0.475871</td>\n",
       "      <td>-0.070186</td>\n",
       "      <td>0.733272</td>\n",
       "      <td>-0.230990</td>\n",
       "      <td>-0.393341</td>\n",
       "    </tr>\n",
       "    <tr>\n",
       "      <th>-0.077463</th>\n",
       "      <td>0.273015</td>\n",
       "      <td>0.529466</td>\n",
       "      <td>0.238593</td>\n",
       "      <td>-0.729422</td>\n",
       "      <td>0.650712</td>\n",
       "      <td>0.270540</td>\n",
       "      <td>0.500761</td>\n",
       "      <td>-0.043645</td>\n",
       "      <td>0.475871</td>\n",
       "      <td>-0.070186</td>\n",
       "      <td>0.733272</td>\n",
       "      <td>-0.230990</td>\n",
       "      <td>-0.393341</td>\n",
       "    </tr>\n",
       "  </tbody>\n",
       "</table>\n",
       "<p>489 rows × 13 columns</p>\n",
       "</div>"
      ],
      "text/plain": [
       "           Dependents  Education  ApplicantIncome  CoapplicantIncome  \\\n",
       "Loan_ID                                                                \n",
       "-1.270168   -0.692795   0.529466        -0.499500           0.498759   \n",
       " 0.260529   -1.658606   0.529466        -0.262636          -0.729422   \n",
       " 0.688770   -0.692795   0.529466         1.220916          -0.729422   \n",
       "-1.201154    1.238825   0.529466         0.136285           2.014212   \n",
       " 1.493935   -0.692795   0.529466        -0.368545           0.272145   \n",
       "...               ...        ...              ...                ...   \n",
       " 0.968366    0.273015  -1.888694        -0.566287           0.452660   \n",
       " 0.435719   -0.692795  -1.888694        -0.394081           0.792339   \n",
       " 0.237524    1.238825  -1.888694        -0.382132           0.322612   \n",
       " 0.924126    2.204636   0.529466        -0.118913          -0.729422   \n",
       "-0.077463    0.273015   0.529466         0.238593          -0.729422   \n",
       "\n",
       "           LoanAmount  Loan_Amount_Term  Credit_History  Property_Area  \\\n",
       "Loan_ID                                                                  \n",
       "-1.270168   -0.113564          0.270540        0.500761      -0.043645   \n",
       " 0.260529   -0.352401         -2.535742        0.500761       1.228303   \n",
       " 0.688770    3.098784          0.270540        0.500761      -0.043645   \n",
       "-1.201154    0.507410         -2.535742        0.500761      -0.043645   \n",
       " 1.493935   -0.495702          0.270540       -1.138094       1.228303   \n",
       "...               ...               ...             ...            ...   \n",
       " 0.968366   -0.173273          0.270540        0.500761      -1.315593   \n",
       " 0.435719   -0.209099          0.270540       -1.138094       1.228303   \n",
       " 0.237524   -0.232982          0.270540        0.500761       1.228303   \n",
       " 0.924126   -0.543470          0.270540        0.500761      -0.043645   \n",
       "-0.077463    0.650712          0.270540        0.500761      -0.043645   \n",
       "\n",
       "           Gender_Male  Married_Unknown  Married_Yes  Self_Employed_Unknown  \\\n",
       "Loan_ID                                                                       \n",
       "-1.270168     0.475871        -0.070186    -1.363750              -0.230990   \n",
       " 0.260529    -2.101411        -0.070186    -1.363750              -0.230990   \n",
       " 0.688770     0.475871        -0.070186    -1.363750               4.329196   \n",
       "-1.201154     0.475871        -0.070186     0.733272              -0.230990   \n",
       " 1.493935     0.475871        -0.070186     0.733272              -0.230990   \n",
       "...                ...              ...          ...                    ...   \n",
       " 0.968366     0.475871        -0.070186     0.733272              -0.230990   \n",
       " 0.435719     0.475871        -0.070186     0.733272              -0.230990   \n",
       " 0.237524     0.475871        -0.070186     0.733272              -0.230990   \n",
       " 0.924126     0.475871        -0.070186     0.733272              -0.230990   \n",
       "-0.077463     0.475871        -0.070186     0.733272              -0.230990   \n",
       "\n",
       "           Self_Employed_Yes  \n",
       "Loan_ID                       \n",
       "-1.270168          -0.393341  \n",
       " 0.260529          -0.393341  \n",
       " 0.688770          -0.393341  \n",
       "-1.201154          -0.393341  \n",
       " 1.493935          -0.393341  \n",
       "...                      ...  \n",
       " 0.968366          -0.393341  \n",
       " 0.435719          -0.393341  \n",
       " 0.237524          -0.393341  \n",
       " 0.924126          -0.393341  \n",
       "-0.077463          -0.393341  \n",
       "\n",
       "[489 rows x 13 columns]"
      ]
     },
     "execution_count": 73,
     "metadata": {},
     "output_type": "execute_result"
    }
   ],
   "source": [
    "x=dataframe.drop(columns=['Loan_Status'])\n",
    "y=dataframe['Loan_Status']\n",
    "from sklearn.model_selection import train_test_split\n",
    "x_train,x_test,y_train,y_test=train_test_split(x,y,test_size=0.2,stratify=y,random_state=0)\n",
    "x_train"
   ]
  },
  {
   "cell_type": "code",
   "execution_count": 74,
   "metadata": {},
   "outputs": [
    {
     "name": "stdout",
     "output_type": "stream",
     "text": [
      "(489,) (489, 13)\n"
     ]
    },
    {
     "data": {
      "text/plain": [
       "(489, 14)"
      ]
     },
     "execution_count": 74,
     "metadata": {},
     "output_type": "execute_result"
    }
   ],
   "source": [
    "import pandas as pd\n",
    "print(y_train.shape,x_train.shape)\n",
    "y_train=y_train.values.reshape((-1,1))\n",
    "training_data=np.hstack((x_train,y_train))\n",
    "training_data=pd.DataFrame(training_data)\n",
    "training_data.shape"
   ]
  },
  {
   "cell_type": "markdown",
   "metadata": {},
   "source": [
    "**Oversampling**\n",
    "- This is done toovercome imblanace in the target column as per the  respective calsses found in it\n",
    "- We ave to do this as the calsses 1 and 0 have a frequency 337 and 152 respectively which is an imbalance and may lead to some bias in the model"
   ]
  },
  {
   "cell_type": "code",
   "execution_count": 75,
   "metadata": {},
   "outputs": [
    {
     "name": "stdout",
     "output_type": "stream",
     "text": [
      "Loan status 1: 337\n",
      "Loan status 1: 152\n"
     ]
    },
    {
     "data": {
      "text/html": [
       "<div>\n",
       "<style scoped>\n",
       "    .dataframe tbody tr th:only-of-type {\n",
       "        vertical-align: middle;\n",
       "    }\n",
       "\n",
       "    .dataframe tbody tr th {\n",
       "        vertical-align: top;\n",
       "    }\n",
       "\n",
       "    .dataframe thead th {\n",
       "        text-align: right;\n",
       "    }\n",
       "</style>\n",
       "<table border=\"1\" class=\"dataframe\">\n",
       "  <thead>\n",
       "    <tr style=\"text-align: right;\">\n",
       "      <th></th>\n",
       "      <th>0</th>\n",
       "      <th>1</th>\n",
       "      <th>2</th>\n",
       "      <th>3</th>\n",
       "      <th>4</th>\n",
       "      <th>5</th>\n",
       "      <th>6</th>\n",
       "      <th>7</th>\n",
       "      <th>8</th>\n",
       "      <th>9</th>\n",
       "      <th>10</th>\n",
       "      <th>11</th>\n",
       "      <th>12</th>\n",
       "      <th>13</th>\n",
       "    </tr>\n",
       "  </thead>\n",
       "  <tbody>\n",
       "    <tr>\n",
       "      <th>0</th>\n",
       "      <td>-0.692795</td>\n",
       "      <td>0.529466</td>\n",
       "      <td>-0.499500</td>\n",
       "      <td>0.498759</td>\n",
       "      <td>-0.113564</td>\n",
       "      <td>0.270540</td>\n",
       "      <td>0.500761</td>\n",
       "      <td>-0.043645</td>\n",
       "      <td>0.475871</td>\n",
       "      <td>-0.070186</td>\n",
       "      <td>-1.363750</td>\n",
       "      <td>-0.230990</td>\n",
       "      <td>-0.393341</td>\n",
       "      <td>1.0</td>\n",
       "    </tr>\n",
       "    <tr>\n",
       "      <th>1</th>\n",
       "      <td>-1.658606</td>\n",
       "      <td>0.529466</td>\n",
       "      <td>-0.262636</td>\n",
       "      <td>-0.729422</td>\n",
       "      <td>-0.352401</td>\n",
       "      <td>-2.535742</td>\n",
       "      <td>0.500761</td>\n",
       "      <td>1.228303</td>\n",
       "      <td>-2.101411</td>\n",
       "      <td>-0.070186</td>\n",
       "      <td>-1.363750</td>\n",
       "      <td>-0.230990</td>\n",
       "      <td>-0.393341</td>\n",
       "      <td>1.0</td>\n",
       "    </tr>\n",
       "    <tr>\n",
       "      <th>2</th>\n",
       "      <td>-0.692795</td>\n",
       "      <td>0.529466</td>\n",
       "      <td>1.220916</td>\n",
       "      <td>-0.729422</td>\n",
       "      <td>3.098784</td>\n",
       "      <td>0.270540</td>\n",
       "      <td>0.500761</td>\n",
       "      <td>-0.043645</td>\n",
       "      <td>0.475871</td>\n",
       "      <td>-0.070186</td>\n",
       "      <td>-1.363750</td>\n",
       "      <td>4.329196</td>\n",
       "      <td>-0.393341</td>\n",
       "      <td>1.0</td>\n",
       "    </tr>\n",
       "    <tr>\n",
       "      <th>3</th>\n",
       "      <td>1.238825</td>\n",
       "      <td>0.529466</td>\n",
       "      <td>0.136285</td>\n",
       "      <td>2.014212</td>\n",
       "      <td>0.507410</td>\n",
       "      <td>-2.535742</td>\n",
       "      <td>0.500761</td>\n",
       "      <td>-0.043645</td>\n",
       "      <td>0.475871</td>\n",
       "      <td>-0.070186</td>\n",
       "      <td>0.733272</td>\n",
       "      <td>-0.230990</td>\n",
       "      <td>-0.393341</td>\n",
       "      <td>1.0</td>\n",
       "    </tr>\n",
       "    <tr>\n",
       "      <th>4</th>\n",
       "      <td>-0.692795</td>\n",
       "      <td>0.529466</td>\n",
       "      <td>-0.368545</td>\n",
       "      <td>0.272145</td>\n",
       "      <td>-0.495702</td>\n",
       "      <td>0.270540</td>\n",
       "      <td>-1.138094</td>\n",
       "      <td>1.228303</td>\n",
       "      <td>0.475871</td>\n",
       "      <td>-0.070186</td>\n",
       "      <td>0.733272</td>\n",
       "      <td>-0.230990</td>\n",
       "      <td>-0.393341</td>\n",
       "      <td>0.0</td>\n",
       "    </tr>\n",
       "    <tr>\n",
       "      <th>...</th>\n",
       "      <td>...</td>\n",
       "      <td>...</td>\n",
       "      <td>...</td>\n",
       "      <td>...</td>\n",
       "      <td>...</td>\n",
       "      <td>...</td>\n",
       "      <td>...</td>\n",
       "      <td>...</td>\n",
       "      <td>...</td>\n",
       "      <td>...</td>\n",
       "      <td>...</td>\n",
       "      <td>...</td>\n",
       "      <td>...</td>\n",
       "      <td>...</td>\n",
       "    </tr>\n",
       "    <tr>\n",
       "      <th>484</th>\n",
       "      <td>0.273015</td>\n",
       "      <td>-1.888694</td>\n",
       "      <td>-0.566287</td>\n",
       "      <td>0.452660</td>\n",
       "      <td>-0.173273</td>\n",
       "      <td>0.270540</td>\n",
       "      <td>0.500761</td>\n",
       "      <td>-1.315593</td>\n",
       "      <td>0.475871</td>\n",
       "      <td>-0.070186</td>\n",
       "      <td>0.733272</td>\n",
       "      <td>-0.230990</td>\n",
       "      <td>-0.393341</td>\n",
       "      <td>1.0</td>\n",
       "    </tr>\n",
       "    <tr>\n",
       "      <th>485</th>\n",
       "      <td>-0.692795</td>\n",
       "      <td>-1.888694</td>\n",
       "      <td>-0.394081</td>\n",
       "      <td>0.792339</td>\n",
       "      <td>-0.209099</td>\n",
       "      <td>0.270540</td>\n",
       "      <td>-1.138094</td>\n",
       "      <td>1.228303</td>\n",
       "      <td>0.475871</td>\n",
       "      <td>-0.070186</td>\n",
       "      <td>0.733272</td>\n",
       "      <td>-0.230990</td>\n",
       "      <td>-0.393341</td>\n",
       "      <td>0.0</td>\n",
       "    </tr>\n",
       "    <tr>\n",
       "      <th>486</th>\n",
       "      <td>1.238825</td>\n",
       "      <td>-1.888694</td>\n",
       "      <td>-0.382132</td>\n",
       "      <td>0.322612</td>\n",
       "      <td>-0.232982</td>\n",
       "      <td>0.270540</td>\n",
       "      <td>0.500761</td>\n",
       "      <td>1.228303</td>\n",
       "      <td>0.475871</td>\n",
       "      <td>-0.070186</td>\n",
       "      <td>0.733272</td>\n",
       "      <td>-0.230990</td>\n",
       "      <td>-0.393341</td>\n",
       "      <td>1.0</td>\n",
       "    </tr>\n",
       "    <tr>\n",
       "      <th>487</th>\n",
       "      <td>2.204636</td>\n",
       "      <td>0.529466</td>\n",
       "      <td>-0.118913</td>\n",
       "      <td>-0.729422</td>\n",
       "      <td>-0.543470</td>\n",
       "      <td>0.270540</td>\n",
       "      <td>0.500761</td>\n",
       "      <td>-0.043645</td>\n",
       "      <td>0.475871</td>\n",
       "      <td>-0.070186</td>\n",
       "      <td>0.733272</td>\n",
       "      <td>-0.230990</td>\n",
       "      <td>-0.393341</td>\n",
       "      <td>1.0</td>\n",
       "    </tr>\n",
       "    <tr>\n",
       "      <th>488</th>\n",
       "      <td>0.273015</td>\n",
       "      <td>0.529466</td>\n",
       "      <td>0.238593</td>\n",
       "      <td>-0.729422</td>\n",
       "      <td>0.650712</td>\n",
       "      <td>0.270540</td>\n",
       "      <td>0.500761</td>\n",
       "      <td>-0.043645</td>\n",
       "      <td>0.475871</td>\n",
       "      <td>-0.070186</td>\n",
       "      <td>0.733272</td>\n",
       "      <td>-0.230990</td>\n",
       "      <td>-0.393341</td>\n",
       "      <td>1.0</td>\n",
       "    </tr>\n",
       "  </tbody>\n",
       "</table>\n",
       "<p>489 rows × 14 columns</p>\n",
       "</div>"
      ],
      "text/plain": [
       "           0         1         2         3         4         5         6   \\\n",
       "0   -0.692795  0.529466 -0.499500  0.498759 -0.113564  0.270540  0.500761   \n",
       "1   -1.658606  0.529466 -0.262636 -0.729422 -0.352401 -2.535742  0.500761   \n",
       "2   -0.692795  0.529466  1.220916 -0.729422  3.098784  0.270540  0.500761   \n",
       "3    1.238825  0.529466  0.136285  2.014212  0.507410 -2.535742  0.500761   \n",
       "4   -0.692795  0.529466 -0.368545  0.272145 -0.495702  0.270540 -1.138094   \n",
       "..        ...       ...       ...       ...       ...       ...       ...   \n",
       "484  0.273015 -1.888694 -0.566287  0.452660 -0.173273  0.270540  0.500761   \n",
       "485 -0.692795 -1.888694 -0.394081  0.792339 -0.209099  0.270540 -1.138094   \n",
       "486  1.238825 -1.888694 -0.382132  0.322612 -0.232982  0.270540  0.500761   \n",
       "487  2.204636  0.529466 -0.118913 -0.729422 -0.543470  0.270540  0.500761   \n",
       "488  0.273015  0.529466  0.238593 -0.729422  0.650712  0.270540  0.500761   \n",
       "\n",
       "           7         8         9         10        11        12   13  \n",
       "0   -0.043645  0.475871 -0.070186 -1.363750 -0.230990 -0.393341  1.0  \n",
       "1    1.228303 -2.101411 -0.070186 -1.363750 -0.230990 -0.393341  1.0  \n",
       "2   -0.043645  0.475871 -0.070186 -1.363750  4.329196 -0.393341  1.0  \n",
       "3   -0.043645  0.475871 -0.070186  0.733272 -0.230990 -0.393341  1.0  \n",
       "4    1.228303  0.475871 -0.070186  0.733272 -0.230990 -0.393341  0.0  \n",
       "..        ...       ...       ...       ...       ...       ...  ...  \n",
       "484 -1.315593  0.475871 -0.070186  0.733272 -0.230990 -0.393341  1.0  \n",
       "485  1.228303  0.475871 -0.070186  0.733272 -0.230990 -0.393341  0.0  \n",
       "486  1.228303  0.475871 -0.070186  0.733272 -0.230990 -0.393341  1.0  \n",
       "487 -0.043645  0.475871 -0.070186  0.733272 -0.230990 -0.393341  1.0  \n",
       "488 -0.043645  0.475871 -0.070186  0.733272 -0.230990 -0.393341  1.0  \n",
       "\n",
       "[489 rows x 14 columns]"
      ]
     },
     "execution_count": 75,
     "metadata": {},
     "output_type": "execute_result"
    }
   ],
   "source": [
    "print(\"Loan status 1:\",len(training_data.loc[training_data[13]==1]))\n",
    "print(\"Loan status 1:\",len(training_data.loc[training_data[13]==0]))\n",
    "training_data"
   ]
  },
  {
   "cell_type": "code",
   "execution_count": 76,
   "metadata": {},
   "outputs": [
    {
     "name": "stdout",
     "output_type": "stream",
     "text": [
      "\n",
      "Resampled class distribution:\n",
      "1    337\n",
      "0    337\n",
      "Name: count, dtype: int64\n"
     ]
    }
   ],
   "source": [
    "from imblearn.over_sampling import RandomOverSampler\n",
    "ros=RandomOverSampler(random_state=0)\n",
    "x_resampled,y_resampled=ros.fit_resample(x_train,y_train)\n",
    "print(\"\\nResampled class distribution:\")\n",
    "print(pd.Series(y_resampled).value_counts())\n"
   ]
  },
  {
   "cell_type": "code",
   "execution_count": 77,
   "metadata": {},
   "outputs": [
    {
     "name": "stdout",
     "output_type": "stream",
     "text": [
      "<class 'numpy.ndarray'>\n"
     ]
    }
   ],
   "source": [
    "y_resampl=y_resampled.reshape(-1,1)\n",
    "resampled_data=np.hstack((x_resampled,y_resampl))\n",
    "print(type(resampled_data))\n",
    "resampled_data=pd.DataFrame(resampled_data)\n"
   ]
  },
  {
   "cell_type": "code",
   "execution_count": 78,
   "metadata": {},
   "outputs": [
    {
     "name": "stdout",
     "output_type": "stream",
     "text": [
      "Loan status 1: 337\n",
      "Loan status 0: 337\n"
     ]
    },
    {
     "data": {
      "text/html": [
       "<div>\n",
       "<style scoped>\n",
       "    .dataframe tbody tr th:only-of-type {\n",
       "        vertical-align: middle;\n",
       "    }\n",
       "\n",
       "    .dataframe tbody tr th {\n",
       "        vertical-align: top;\n",
       "    }\n",
       "\n",
       "    .dataframe thead th {\n",
       "        text-align: right;\n",
       "    }\n",
       "</style>\n",
       "<table border=\"1\" class=\"dataframe\">\n",
       "  <thead>\n",
       "    <tr style=\"text-align: right;\">\n",
       "      <th></th>\n",
       "      <th>0</th>\n",
       "      <th>1</th>\n",
       "      <th>2</th>\n",
       "      <th>3</th>\n",
       "      <th>4</th>\n",
       "      <th>5</th>\n",
       "      <th>6</th>\n",
       "      <th>7</th>\n",
       "      <th>8</th>\n",
       "      <th>9</th>\n",
       "      <th>10</th>\n",
       "      <th>11</th>\n",
       "      <th>12</th>\n",
       "      <th>13</th>\n",
       "    </tr>\n",
       "  </thead>\n",
       "  <tbody>\n",
       "    <tr>\n",
       "      <th>0</th>\n",
       "      <td>-0.692795</td>\n",
       "      <td>0.529466</td>\n",
       "      <td>-0.499500</td>\n",
       "      <td>0.498759</td>\n",
       "      <td>-0.113564</td>\n",
       "      <td>0.270540</td>\n",
       "      <td>0.500761</td>\n",
       "      <td>-0.043645</td>\n",
       "      <td>0.475871</td>\n",
       "      <td>-0.070186</td>\n",
       "      <td>-1.363750</td>\n",
       "      <td>-0.230990</td>\n",
       "      <td>-0.393341</td>\n",
       "      <td>1.0</td>\n",
       "    </tr>\n",
       "    <tr>\n",
       "      <th>1</th>\n",
       "      <td>-1.658606</td>\n",
       "      <td>0.529466</td>\n",
       "      <td>-0.262636</td>\n",
       "      <td>-0.729422</td>\n",
       "      <td>-0.352401</td>\n",
       "      <td>-2.535742</td>\n",
       "      <td>0.500761</td>\n",
       "      <td>1.228303</td>\n",
       "      <td>-2.101411</td>\n",
       "      <td>-0.070186</td>\n",
       "      <td>-1.363750</td>\n",
       "      <td>-0.230990</td>\n",
       "      <td>-0.393341</td>\n",
       "      <td>1.0</td>\n",
       "    </tr>\n",
       "    <tr>\n",
       "      <th>2</th>\n",
       "      <td>-0.692795</td>\n",
       "      <td>0.529466</td>\n",
       "      <td>1.220916</td>\n",
       "      <td>-0.729422</td>\n",
       "      <td>3.098784</td>\n",
       "      <td>0.270540</td>\n",
       "      <td>0.500761</td>\n",
       "      <td>-0.043645</td>\n",
       "      <td>0.475871</td>\n",
       "      <td>-0.070186</td>\n",
       "      <td>-1.363750</td>\n",
       "      <td>4.329196</td>\n",
       "      <td>-0.393341</td>\n",
       "      <td>1.0</td>\n",
       "    </tr>\n",
       "    <tr>\n",
       "      <th>3</th>\n",
       "      <td>1.238825</td>\n",
       "      <td>0.529466</td>\n",
       "      <td>0.136285</td>\n",
       "      <td>2.014212</td>\n",
       "      <td>0.507410</td>\n",
       "      <td>-2.535742</td>\n",
       "      <td>0.500761</td>\n",
       "      <td>-0.043645</td>\n",
       "      <td>0.475871</td>\n",
       "      <td>-0.070186</td>\n",
       "      <td>0.733272</td>\n",
       "      <td>-0.230990</td>\n",
       "      <td>-0.393341</td>\n",
       "      <td>1.0</td>\n",
       "    </tr>\n",
       "    <tr>\n",
       "      <th>4</th>\n",
       "      <td>-0.692795</td>\n",
       "      <td>0.529466</td>\n",
       "      <td>-0.368545</td>\n",
       "      <td>0.272145</td>\n",
       "      <td>-0.495702</td>\n",
       "      <td>0.270540</td>\n",
       "      <td>-1.138094</td>\n",
       "      <td>1.228303</td>\n",
       "      <td>0.475871</td>\n",
       "      <td>-0.070186</td>\n",
       "      <td>0.733272</td>\n",
       "      <td>-0.230990</td>\n",
       "      <td>-0.393341</td>\n",
       "      <td>0.0</td>\n",
       "    </tr>\n",
       "    <tr>\n",
       "      <th>...</th>\n",
       "      <td>...</td>\n",
       "      <td>...</td>\n",
       "      <td>...</td>\n",
       "      <td>...</td>\n",
       "      <td>...</td>\n",
       "      <td>...</td>\n",
       "      <td>...</td>\n",
       "      <td>...</td>\n",
       "      <td>...</td>\n",
       "      <td>...</td>\n",
       "      <td>...</td>\n",
       "      <td>...</td>\n",
       "      <td>...</td>\n",
       "      <td>...</td>\n",
       "    </tr>\n",
       "    <tr>\n",
       "      <th>669</th>\n",
       "      <td>-0.692795</td>\n",
       "      <td>0.529466</td>\n",
       "      <td>-0.307488</td>\n",
       "      <td>-0.061711</td>\n",
       "      <td>-1.080851</td>\n",
       "      <td>0.270540</td>\n",
       "      <td>0.500761</td>\n",
       "      <td>-1.315593</td>\n",
       "      <td>0.475871</td>\n",
       "      <td>-0.070186</td>\n",
       "      <td>0.733272</td>\n",
       "      <td>4.329196</td>\n",
       "      <td>-0.393341</td>\n",
       "      <td>0.0</td>\n",
       "    </tr>\n",
       "    <tr>\n",
       "      <th>670</th>\n",
       "      <td>-0.692795</td>\n",
       "      <td>-1.888694</td>\n",
       "      <td>-0.441552</td>\n",
       "      <td>-0.729422</td>\n",
       "      <td>-0.782306</td>\n",
       "      <td>0.270540</td>\n",
       "      <td>-1.138094</td>\n",
       "      <td>1.228303</td>\n",
       "      <td>-2.101411</td>\n",
       "      <td>-0.070186</td>\n",
       "      <td>-1.363750</td>\n",
       "      <td>-0.230990</td>\n",
       "      <td>-0.393341</td>\n",
       "      <td>0.0</td>\n",
       "    </tr>\n",
       "    <tr>\n",
       "      <th>671</th>\n",
       "      <td>0.273015</td>\n",
       "      <td>0.529466</td>\n",
       "      <td>0.160839</td>\n",
       "      <td>2.788680</td>\n",
       "      <td>0.411875</td>\n",
       "      <td>0.270540</td>\n",
       "      <td>-1.138094</td>\n",
       "      <td>1.228303</td>\n",
       "      <td>0.475871</td>\n",
       "      <td>-0.070186</td>\n",
       "      <td>0.733272</td>\n",
       "      <td>-0.230990</td>\n",
       "      <td>-0.393341</td>\n",
       "      <td>0.0</td>\n",
       "    </tr>\n",
       "    <tr>\n",
       "      <th>672</th>\n",
       "      <td>1.238825</td>\n",
       "      <td>0.529466</td>\n",
       "      <td>0.553539</td>\n",
       "      <td>-0.729422</td>\n",
       "      <td>1.343337</td>\n",
       "      <td>0.270540</td>\n",
       "      <td>-1.138094</td>\n",
       "      <td>1.228303</td>\n",
       "      <td>0.475871</td>\n",
       "      <td>-0.070186</td>\n",
       "      <td>0.733272</td>\n",
       "      <td>-0.230990</td>\n",
       "      <td>-0.393341</td>\n",
       "      <td>0.0</td>\n",
       "    </tr>\n",
       "    <tr>\n",
       "      <th>673</th>\n",
       "      <td>-0.692795</td>\n",
       "      <td>-1.888694</td>\n",
       "      <td>-0.461196</td>\n",
       "      <td>0.197901</td>\n",
       "      <td>-0.352401</td>\n",
       "      <td>0.270540</td>\n",
       "      <td>-1.138094</td>\n",
       "      <td>-0.043645</td>\n",
       "      <td>0.475871</td>\n",
       "      <td>-0.070186</td>\n",
       "      <td>0.733272</td>\n",
       "      <td>-0.230990</td>\n",
       "      <td>-0.393341</td>\n",
       "      <td>0.0</td>\n",
       "    </tr>\n",
       "  </tbody>\n",
       "</table>\n",
       "<p>674 rows × 14 columns</p>\n",
       "</div>"
      ],
      "text/plain": [
       "           0         1         2         3         4         5         6   \\\n",
       "0   -0.692795  0.529466 -0.499500  0.498759 -0.113564  0.270540  0.500761   \n",
       "1   -1.658606  0.529466 -0.262636 -0.729422 -0.352401 -2.535742  0.500761   \n",
       "2   -0.692795  0.529466  1.220916 -0.729422  3.098784  0.270540  0.500761   \n",
       "3    1.238825  0.529466  0.136285  2.014212  0.507410 -2.535742  0.500761   \n",
       "4   -0.692795  0.529466 -0.368545  0.272145 -0.495702  0.270540 -1.138094   \n",
       "..        ...       ...       ...       ...       ...       ...       ...   \n",
       "669 -0.692795  0.529466 -0.307488 -0.061711 -1.080851  0.270540  0.500761   \n",
       "670 -0.692795 -1.888694 -0.441552 -0.729422 -0.782306  0.270540 -1.138094   \n",
       "671  0.273015  0.529466  0.160839  2.788680  0.411875  0.270540 -1.138094   \n",
       "672  1.238825  0.529466  0.553539 -0.729422  1.343337  0.270540 -1.138094   \n",
       "673 -0.692795 -1.888694 -0.461196  0.197901 -0.352401  0.270540 -1.138094   \n",
       "\n",
       "           7         8         9         10        11        12   13  \n",
       "0   -0.043645  0.475871 -0.070186 -1.363750 -0.230990 -0.393341  1.0  \n",
       "1    1.228303 -2.101411 -0.070186 -1.363750 -0.230990 -0.393341  1.0  \n",
       "2   -0.043645  0.475871 -0.070186 -1.363750  4.329196 -0.393341  1.0  \n",
       "3   -0.043645  0.475871 -0.070186  0.733272 -0.230990 -0.393341  1.0  \n",
       "4    1.228303  0.475871 -0.070186  0.733272 -0.230990 -0.393341  0.0  \n",
       "..        ...       ...       ...       ...       ...       ...  ...  \n",
       "669 -1.315593  0.475871 -0.070186  0.733272  4.329196 -0.393341  0.0  \n",
       "670  1.228303 -2.101411 -0.070186 -1.363750 -0.230990 -0.393341  0.0  \n",
       "671  1.228303  0.475871 -0.070186  0.733272 -0.230990 -0.393341  0.0  \n",
       "672  1.228303  0.475871 -0.070186  0.733272 -0.230990 -0.393341  0.0  \n",
       "673 -0.043645  0.475871 -0.070186  0.733272 -0.230990 -0.393341  0.0  \n",
       "\n",
       "[674 rows x 14 columns]"
      ]
     },
     "execution_count": 78,
     "metadata": {},
     "output_type": "execute_result"
    }
   ],
   "source": [
    "print(\"Loan status 1:\",len(resampled_data.loc[resampled_data[13]==1]))\n",
    "print(\"Loan status 0:\",len(resampled_data.loc[resampled_data[13]==0]))\n",
    "resampled_data"
   ]
  },
  {
   "cell_type": "markdown",
   "metadata": {},
   "source": [
    "**Modelling**\n",
    "- We are going to use various classification models i.e:\n",
    "   1. Logistic Regression\n",
    "   2. Naive Bayes\n",
    "   3. Support Vector Machine\n",
    "   4. K Nearest Neighors\n",
    "   5. Neural Networks\n",
    "- The best performing will be the model we recommend for use"
   ]
  },
  {
   "cell_type": "markdown",
   "metadata": {},
   "source": [
    "**Naive Bayes**\n",
    "- To understand the concept and modelling using naive bayes one needs to understand the 2 key principles used by naive bayes mode:\n",
    "  1. conditional probability:comes into play when probability of occurence of a particular event changes when one or more conditions are satisfied\n",
    "  2. Bayes rule:Which explains that all inputs are independent\n",
    "- Reason for the name __naive__ bayes is because it assumes all features in the feature matrix are independent\n",
    "- Types of naive bayes:\n",
    "   1. GaussianNB: For continuous data, assumes features follow normal distribution\n",
    "   2. MultinomialNB: Good for discrete data (e.g., word counts in text)\n",
    "   3. BernoulliNB: Good for binary/boolean features\n",
    "- Remember that feature independence assumption means that the presence of one feature doesn't affect the presence of another feature, which is why it's called \"naive\". Despite this limitation, it often performs surprisingly well in practice.     "
   ]
  },
  {
   "cell_type": "code",
   "execution_count": 79,
   "metadata": {},
   "outputs": [
    {
     "name": "stdout",
     "output_type": "stream",
     "text": [
      "R^2 on the training data: 0.5237388724035609\n",
      "R^2 on the test data: 0.2926829268292683\n",
      "Accuracy: 0.2926829268292683\n"
     ]
    }
   ],
   "source": [
    "from sklearn.naive_bayes import GaussianNB\n",
    "from sklearn.metrics import classification_report, confusion_matrix, accuracy_score\n",
    "\n",
    "nb=GaussianNB()\n",
    "nb.fit(x_resampled,y_resampled)\n",
    "y_pred=nb.predict(x_test)\n",
    "#print(classification_report(y_test, y_pred))\n",
    "print(\"R^2 on the training data:\",nb.score(x_resampled,y_resampled))\n",
    "print(\"R^2 on the test data:\",nb.score(x_test,y_test))\n",
    "\n",
    "#poor performance\n",
    "print(\"Accuracy:\", accuracy_score(y_test, y_pred))"
   ]
  },
  {
   "cell_type": "markdown",
   "metadata": {},
   "source": [
    "**Support Vector Machine**\n",
    "\n",
    "-it is uses a boundary i.e a line in 2d ,plane in 3d etc with the highest margin(the margins are provided by the closest point on bothnclaases near the boundary and are refered to as _support vectors_ hence the name support vector machines).\n",
    "- It is also good to note that Support Vector Machine model is not roust to outliers therefore in a case where there are outliers it is not the best model to be used\n",
    "\n",
    "- In a case we apply some transformations where y or x1 is x**2 that is called the **kernel trick**"
   ]
  },
  {
   "cell_type": "code",
   "execution_count": 80,
   "metadata": {},
   "outputs": [
    {
     "name": "stdout",
     "output_type": "stream",
     "text": [
      "0.7952522255192879\n",
      "0.7642276422764228\n"
     ]
    }
   ],
   "source": [
    "from sklearn.svm import SVC\n",
    "svm_model=SVC()\n",
    "svm_model.fit(x_resampled,y_resampled)\n",
    "preds=svm_model.predict(x_test)\n",
    "print(svm_model.score(x_resampled,y_resampled))\n",
    "print(svm_model.score(x_test,y_test))"
   ]
  },
  {
   "cell_type": "markdown",
   "metadata": {},
   "source": [
    "## K Nearest Neighbors"
   ]
  },
  {
   "cell_type": "code",
   "execution_count": 81,
   "metadata": {},
   "outputs": [
    {
     "name": "stdout",
     "output_type": "stream",
     "text": [
      "[1 1 1 1 1 1 0 0 1 1 0 0 1 0 0 0 0 1 0 1 0 1 0 1 1 0 0 0 0 1 1 0 1 1 0 1 0\n",
      " 1 0 1 1 1 1 1 1 1 1 1 0 0 1 1 1 1 1 1 1 0 0 1 1 0 1 1 0 1 1 0 0 1 1 0 0 1\n",
      " 1 1 1 1 1 0 1 0 1 1 1 1 1 0 0 1 1 1 1 1 0 0 1 1 0 1 1 0 1 1 1 0 0 0 1 1 0\n",
      " 0 1 1 0 1 1 1 1 0 0 1 1]\n"
     ]
    }
   ],
   "source": [
    "from sklearn.neighbors import KNeighborsClassifier\n",
    "from sklearn.metrics import classification_report\n",
    "knn=KNeighborsClassifier(n_neighbors=5)\n",
    "knn.fit(x_resampled,y_resampled)\n",
    "prediction=knn.predict(x_test)\n",
    "print(prediction)"
   ]
  },
  {
   "cell_type": "code",
   "execution_count": 82,
   "metadata": {},
   "outputs": [
    {
     "name": "stdout",
     "output_type": "stream",
     "text": [
      "0.827893175074184\n",
      "0.6666666666666666\n"
     ]
    }
   ],
   "source": [
    "accuracy_train=knn.score(x_resampled,y_resampled)\n",
    "print(accuracy_train)\n",
    "accuracy_test=knn.score(x_test,y_test)\n",
    "print(accuracy_test)"
   ]
  },
  {
   "cell_type": "code",
   "execution_count": 83,
   "metadata": {},
   "outputs": [
    {
     "name": "stdout",
     "output_type": "stream",
     "text": [
      "              precision    recall  f1-score   support\n",
      "\n",
      "           0       0.47      0.55      0.51        38\n",
      "           1       0.78      0.72      0.75        85\n",
      "\n",
      "    accuracy                           0.67       123\n",
      "   macro avg       0.62      0.64      0.63       123\n",
      "weighted avg       0.68      0.67      0.67       123\n",
      "\n"
     ]
    }
   ],
   "source": [
    "print(classification_report(y_test,prediction))"
   ]
  },
  {
   "cell_type": "code",
   "execution_count": 88,
   "metadata": {},
   "outputs": [
    {
     "data": {
      "image/png": "[encoded data removed]",
      "text/plain": [
       "<Figure size 640x480 with 1 Axes>"
      ]
     },
     "metadata": {},
     "output_type": "display_data"
    }
   ],
   "source": [
    "accuracies_training={}\n",
    "accuracies_testing={}\n",
    "for i in np.arange(1,15,1):\n",
    "    knn=KNeighborsClassifier(n_neighbors=i)\n",
    "    knn.fit(x_resampled,y_resampled)\n",
    "    scoretrain=knn.score(x_resampled,y_resampled)\n",
    "    accuracies_training[i]=scoretrain\n",
    "    scoretest=knn.score(x_test,y_test)\n",
    "    accuracies_testing[i]=scoretest\n",
    "#plt.figure(figsize=(3,3))    \n",
    "plt.plot(np.arange(1,15,1),accuracies_training.values(),label=\"Train\")    \n",
    "plt.plot(np.arange(1,15,1),accuracies_testing.values(),label=\"Test\")\n",
    "plt.xlabel(\"Number of neighbors\")\n",
    "plt.ylabel(\"Accuracies\")\n",
    "plt.title(\"Model complexity curve\")\n",
    "plt.legend()\n",
    "plt.show()"
   ]
  },
  {
   "cell_type": "code",
   "execution_count": 92,
   "metadata": {},
   "outputs": [
    {
     "name": "stdout",
     "output_type": "stream",
     "text": [
      "0.7181008902077152\n",
      "0.6829268292682927\n"
     ]
    }
   ],
   "source": [
    "knn=KNeighborsClassifier(n_neighbors=11)\n",
    "knn.fit(x_resampled,y_resampled)\n",
    "accuracy_train=knn.score(x_resampled,y_resampled)\n",
    "print(accuracy_train)\n",
    "accuracy_test=knn.score(x_test,y_test)\n",
    "print(accuracy_test)"
   ]
  },
  {
   "cell_type": "markdown",
   "metadata": {},
   "source": [
    "## Logistic Regression"
   ]
  },
  {
   "cell_type": "code",
   "execution_count": 84,
   "metadata": {},
   "outputs": [
    {
     "name": "stdout",
     "output_type": "stream",
     "text": [
      "0.6780415430267063\n",
      "0.7154471544715447\n"
     ]
    }
   ],
   "source": [
    "from sklearn.linear_model import LogisticRegression\n",
    "lg_model=LogisticRegression()\n",
    "lg_model.fit(x_resampled,y_resampled)\n",
    "preds=lg_model.predict(x_test)\n",
    "print(lg_model.score(x_resampled,y_resampled))\n",
    "print(lg_model.score(x_test,y_test))"
   ]
  },
  {
   "cell_type": "code",
   "execution_count": 85,
   "metadata": {},
   "outputs": [
    {
     "name": "stdout",
     "output_type": "stream",
     "text": [
      "              precision    recall  f1-score   support\n",
      "\n",
      "           0       0.53      0.61      0.57        38\n",
      "           1       0.81      0.76      0.79        85\n",
      "\n",
      "    accuracy                           0.72       123\n",
      "   macro avg       0.67      0.68      0.68       123\n",
      "weighted avg       0.73      0.72      0.72       123\n",
      "\n"
     ]
    }
   ],
   "source": [
    "print(classification_report(y_test,preds))"
   ]
  },
  {
   "cell_type": "code",
   "execution_count": null,
   "metadata": {},
   "outputs": [],
   "source": []
  }
 ],
 "metadata": {
  "kernelspec": {
   "display_name": "Python 3",
   "language": "python",
   "name": "python3"
  },
  "language_info": {
   "codemirror_mode": {
    "name": "ipython",
    "version": 3
   },
   "file_extension": ".py",
   "mimetype": "text/x-python",
   "name": "python",
   "nbconvert_exporter": "python",
   "pygments_lexer": "ipython3",
   "version": "3.12.3"
  }
 },
 "nbformat": 4,
 "nbformat_minor": 2
}
